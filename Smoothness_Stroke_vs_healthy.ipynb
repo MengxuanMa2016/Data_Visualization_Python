{
  "nbformat": 4,
  "nbformat_minor": 0,
  "metadata": {
    "colab": {
      "name": "Smoothness_Stroke_vs_healthy",
      "version": "0.3.2",
      "provenance": [],
      "include_colab_link": true
    },
    "kernelspec": {
      "name": "python3",
      "display_name": "Python 3"
    }
  },
  "cells": [
    {
      "cell_type": "markdown",
      "metadata": {
        "id": "view-in-github",
        "colab_type": "text"
      },
      "source": [
        "<a href=\"https://colab.research.google.com/github/MengxuanMa2016/Data_Visualization_Python/blob/master/Smoothness_Stroke_vs_healthy.ipynb\" target=\"_parent\"><img src=\"https://colab.research.google.com/assets/colab-badge.svg\" alt=\"Open In Colab\"/></a>"
      ]
    },
    {
      "metadata": {
        "id": "MeT4wtzws2Pz",
        "colab_type": "text"
      },
      "cell_type": "markdown",
      "source": [
        "## Load the libraries"
      ]
    },
    {
      "metadata": {
        "id": "gAO3tTlMrpCy",
        "colab_type": "code",
        "colab": {}
      },
      "cell_type": "code",
      "source": [
        "from numpy import genfromtxt\n",
        "import numpy as np, pandas as pd\n",
        "from IPython.display import display, HTML\n",
        "from matplotlib import pylab\n",
        "import matplotlib.pyplot as plt\n",
        "import matplotlib as mpl\n",
        "mpl.rcParams.update(mpl.rcParamsDefault)\n",
        "import seaborn as sns\n",
        "import csv\n",
        "\n",
        "import scipy.stats as stats\n",
        "import statsmodels as sm\n",
        "\n",
        "import warnings\n",
        "warnings.filterwarnings('ignore')"
      ],
      "execution_count": 0,
      "outputs": []
    },
    {
      "metadata": {
        "id": "cQ1yZmvIs7G0",
        "colab_type": "text"
      },
      "cell_type": "markdown",
      "source": [
        "## Link the notebook to the google drive to import the file"
      ]
    },
    {
      "metadata": {
        "id": "8JIIJbC1tCy_",
        "colab_type": "code",
        "outputId": "52b2e2ba-92c9-4563-fea2-b4a5e2897c6c",
        "colab": {
          "base_uri": "https://localhost:8080/",
          "height": 121
        }
      },
      "cell_type": "code",
      "source": [
        "from google.colab import drive\n",
        "drive.mount('/content/gdrive')"
      ],
      "execution_count": 0,
      "outputs": [
        {
          "output_type": "stream",
          "text": [
            "Go to this URL in a browser: https://accounts.google.com/o/oauth2/auth?client_id=947318989803-6bn6qk8qdgf4n4g3pfee6491hc0brc4i.apps.googleusercontent.com&redirect_uri=urn%3Aietf%3Awg%3Aoauth%3A2.0%3Aoob&scope=email%20https%3A%2F%2Fwww.googleapis.com%2Fauth%2Fdocs.test%20https%3A%2F%2Fwww.googleapis.com%2Fauth%2Fdrive%20https%3A%2F%2Fwww.googleapis.com%2Fauth%2Fdrive.photos.readonly%20https%3A%2F%2Fwww.googleapis.com%2Fauth%2Fpeopleapi.readonly&response_type=code\n",
            "\n",
            "Enter your authorization code:\n",
            "··········\n",
            "Mounted at /content/gdrive\n"
          ],
          "name": "stdout"
        }
      ]
    },
    {
      "metadata": {
        "id": "YOrm6hJetOsm",
        "colab_type": "code",
        "colab": {}
      },
      "cell_type": "code",
      "source": [
        "# list data files are available in the data directory.\n",
        "# For example, running this (by clicking run or pressing Shift+Enter) will list the files in the input directory\n",
        "\n",
        "path = \"/content/gdrive/My Drive/Assessment_Data_Visualization/\"\n",
        "# path = \"/content/gdrive/Shared with me/Assessment_Data_Visualization/\"\n",
        "\n",
        "from subprocess import check_output\n",
        "print(check_output([\"ls\", path]).decode(\"utf8\"))\n",
        "\n",
        "# Any results you write to the current directory are saved as output."
      ],
      "execution_count": 0,
      "outputs": []
    },
    {
      "metadata": {
        "id": "bQ_-4r_tvP3P",
        "colab_type": "text"
      },
      "cell_type": "markdown",
      "source": [
        "## Some functions"
      ]
    },
    {
      "metadata": {
        "id": "aGGGeFdOvOqT",
        "colab_type": "code",
        "colab": {}
      },
      "cell_type": "code",
      "source": [
        "def read_joint_file(trial):\n",
        "    \"\"\"\n",
        "    read_joint_file method: read the joint file(.csv) to an array\n",
        "    :param\n",
        "        trial: directory of the file to be read\n",
        "    :return:\n",
        "        an array of data read from the file.\n",
        "    \"\"\"\n",
        "    print(\"Reading trial -- \" + trial)\n",
        "\n",
        "    # read the actual data from .csv file\n",
        "    file_data = genfromtxt(trial, delimiter=',')\n",
        "    # print(type(file_data))\n",
        "\n",
        "    data_raw = file_data[:]\n",
        "\n",
        "    print(\"Finish Reading!\")\n",
        "\n",
        "    return data_raw"
      ],
      "execution_count": 0,
      "outputs": []
    },
    {
      "metadata": {
        "id": "uFU5qD30v6lF",
        "colab_type": "code",
        "colab": {}
      },
      "cell_type": "code",
      "source": [
        "def read_trial_info(trial):\n",
        "    label = []\n",
        "    with open(trial, newline='') as csvfile:\n",
        "        reader = csv.reader(csvfile, delimiter=',')\n",
        "        for row in reader:\n",
        "            label.append(row[0])\n",
        "#     partial_label = [x.split(\"_\") for x in label]\n",
        "      \n",
        "    return label"
      ],
      "execution_count": 0,
      "outputs": []
    },
    {
      "metadata": {
        "id": "qlu4-7b80i2-",
        "colab_type": "code",
        "colab": {}
      },
      "cell_type": "code",
      "source": [
        "def file_generator(data_file, trial_file, result_file):\n",
        "  \n",
        "  # Load the data\n",
        "  data = read_joint_file(path + data_file)\n",
        "  print ('The data size:' + str(data.shape))\n",
        "  trial = np.asarray(read_trial_info(path + trial_file))\n",
        "  trial = np.reshape(trial, (trial.shape[0],-1))\n",
        "  print('The trial size:' +str(trial.shape))\n",
        "  \n",
        "  # Group the data and trial\n",
        "  headers = ['Trials', \\\n",
        "           'Max_Speed_Left', 'Max_Speed_Right',\t'Mean_Speed_Left',\t'Mean_Speed_Right','Mean/Max_Left',\t'Mean/Max_Right',\t\\\n",
        "           'Norm_Jerk_x_Left',\t'Norm_Jerk_y_Left',\t'Norm_Jerk_z_Left',\t'Norm_Jerk_x_Right',\t'Norm_Jerk_y_Right',\t'Norm_Jerk_z_Right',\\\n",
        "           'Norm_Jerk_3d_Left',\t'Norm_Jerk_3d_Right']\n",
        "\n",
        "  trial_data = np.concatenate((trial, data), axis=1)\n",
        "  # print(\"trial with data: \\n\" + str(trial_data[:3,0:3]))\n",
        "\n",
        "  trial_data_dict = dict(zip(headers, trial_data.T))\n",
        "\n",
        "  df = pd.DataFrame(trial_data_dict)\n",
        "  # # print(stroke_df.head())\n",
        "\n",
        "  df = df[['Trials','Mean/Max_Left',\t'Mean/Max_Right','Norm_Jerk_3d_Left',\t'Norm_Jerk_3d_Right']]\n",
        "\n",
        "  display(df)\n",
        "  \n",
        "  df.to_csv(path + result_file + '.csv', encoding='utf-8', index=False)\n",
        "  \n",
        "  return df\n",
        "  "
      ],
      "execution_count": 0,
      "outputs": []
    },
    {
      "metadata": {
        "id": "8EkmsaHjthNU",
        "colab_type": "text"
      },
      "cell_type": "markdown",
      "source": [
        "## Select the files to be read"
      ]
    },
    {
      "metadata": {
        "id": "M3JN_yUUtgty",
        "colab_type": "code",
        "colab": {}
      },
      "cell_type": "code",
      "source": [
        "healthy_file = 'KL30-ALL-speedsmoothness_metrics012719.csv'\n",
        "healthy_trial_file = 'KL30-ALL-trial_list012719.csv'\n",
        "\n",
        "HS1_file = 'HS1-ALL-speedsmoothness_metrics012019.csv'\n",
        "HS1_trial_file = 'HS1-ALL-trial_list012019.csv'\n",
        "\n",
        "HS2_file = 'HS2-ALL-speedsmoothness_metrics011819.csv'\n",
        "HS2_trial_file = 'HS2-ALL-trial_list011819.csv'\n",
        "\n",
        "HS4_file = 'HS4-ALL-speedsmoothness_metrics011719.csv'\n",
        "HS4_trial_file = 'HS4-ALL-trial_list011719.csv'\n",
        "\n",
        "HS5_file = 'HS5-ALL-speedsmoothness_metrics011619.csv'\n",
        "HS5_trial_file = 'HS5-ALL-trial_list011619.csv'  \n",
        "\n",
        "HS7_file = 'HS7-ALL-speedsmoothness_metrics011819.csv'\n",
        "HS7_trial_file = 'HS7-ALL-trial_list011819.csv'\n",
        "\n",
        "HS8_file = 'HS8-ALL-speedsmoothness_metrics011819.csv'\n",
        "HS8_trial_file = 'HS8-ALL-trial_list011819.csv'  \n",
        "\n",
        "LSVT1_file = 'LSVT1-ALL-speedsmoothness_metrics012019.csv'\n",
        "LSVT1_trial_file = 'LSVT1-ALL-trial_list012019.csv'  \n",
        "\n",
        "LSVT2_file = 'LSVT2-ALL-speedsmoothness_metrics012019.csv'\n",
        "LSVT2_trial_file = 'LSVT2-ALL-trial_list012019.csv'"
      ],
      "execution_count": 0,
      "outputs": []
    },
    {
      "metadata": {
        "id": "VaITLFWY3iQP",
        "colab_type": "code",
        "colab": {}
      },
      "cell_type": "code",
      "source": [
        "healthy_df = file_generator(healthy_file, healthy_trial_file, 'healthy')"
      ],
      "execution_count": 0,
      "outputs": []
    },
    {
      "metadata": {
        "id": "hig0s4Wd3y3E",
        "colab_type": "code",
        "colab": {}
      },
      "cell_type": "code",
      "source": [
        "HS1_df = file_generator(HS1_file, HS1_trial_file, 'HS1')"
      ],
      "execution_count": 0,
      "outputs": []
    },
    {
      "metadata": {
        "id": "3ApsedXd38Vp",
        "colab_type": "code",
        "colab": {}
      },
      "cell_type": "code",
      "source": [
        "HS2_df = file_generator(HS2_file, HS2_trial_file, 'HS2')"
      ],
      "execution_count": 0,
      "outputs": []
    },
    {
      "metadata": {
        "id": "NGWOQy9E4ELu",
        "colab_type": "code",
        "colab": {}
      },
      "cell_type": "code",
      "source": [
        "HS4_df = file_generator(HS4_file, HS4_trial_file, 'HS4')"
      ],
      "execution_count": 0,
      "outputs": []
    },
    {
      "metadata": {
        "id": "u7DToKYz4SqG",
        "colab_type": "code",
        "colab": {}
      },
      "cell_type": "code",
      "source": [
        "HS5_df = file_generator(HS5_file, HS5_trial_file, 'HS5')"
      ],
      "execution_count": 0,
      "outputs": []
    },
    {
      "metadata": {
        "id": "emmNrdin4cft",
        "colab_type": "code",
        "colab": {}
      },
      "cell_type": "code",
      "source": [
        "HS7_df = file_generator(HS7_file, HS7_trial_file, 'HS7')"
      ],
      "execution_count": 0,
      "outputs": []
    },
    {
      "metadata": {
        "id": "O_W9_1qR4loh",
        "colab_type": "code",
        "colab": {}
      },
      "cell_type": "code",
      "source": [
        "HS8_df = file_generator(HS8_file, HS8_trial_file, 'HS8')"
      ],
      "execution_count": 0,
      "outputs": []
    },
    {
      "metadata": {
        "id": "-gfADSVu4upz",
        "colab_type": "code",
        "colab": {}
      },
      "cell_type": "code",
      "source": [
        "LSVT1_df = file_generator(LSVT1_file, LSVT1_trial_file, 'LSVT1')"
      ],
      "execution_count": 0,
      "outputs": []
    },
    {
      "metadata": {
        "id": "cTpUg6Ds5WRJ",
        "colab_type": "code",
        "colab": {}
      },
      "cell_type": "code",
      "source": [
        "LSVT2_df = file_generator(LSVT2_file, LSVT2_trial_file, 'LSVT2')"
      ],
      "execution_count": 0,
      "outputs": []
    }
  ]
}