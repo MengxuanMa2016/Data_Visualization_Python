{
  "nbformat": 4,
  "nbformat_minor": 0,
  "metadata": {
    "colab": {
      "name": "Visualization_of_assessment_outcomes-smoothness.ipynb",
      "version": "0.3.2",
      "provenance": [],
      "include_colab_link": true
    },
    "kernelspec": {
      "name": "python3",
      "display_name": "Python 3"
    }
  },
  "cells": [
    {
      "cell_type": "markdown",
      "metadata": {
        "id": "view-in-github",
        "colab_type": "text"
      },
      "source": [
        "<a href=\"https://colab.research.google.com/github/MengxuanMa2016/Data_Visualization_Python/blob/master/Visualization_of_assessment_outcomes_smoothness.ipynb\" target=\"_parent\"><img src=\"https://colab.research.google.com/assets/colab-badge.svg\" alt=\"Open In Colab\"/></a>"
      ]
    },
    {
      "metadata": {
        "id": "XqZjw6_Xyyva",
        "colab_type": "text"
      },
      "cell_type": "markdown",
      "source": [
        "## **Efficiency Assessment Result Visualization**\n",
        "\n",
        "The purpose of this notebook is to visaulize the processed assessment results of a stroke player. \n",
        "\n",
        "Main steps: \n",
        "a. Load the generetated assessment file in csv. "
      ]
    },
    {
      "metadata": {
        "id": "WEWg5fc00hR4",
        "colab_type": "text"
      },
      "cell_type": "markdown",
      "source": [
        "## Load the necessary libraries"
      ]
    },
    {
      "metadata": {
        "id": "8q-fcENFzDnF",
        "colab_type": "code",
        "colab": {}
      },
      "cell_type": "code",
      "source": [
        "from numpy import genfromtxt\n",
        "import numpy as np, pandas as pd\n",
        "from IPython.display import display, HTML\n",
        "from matplotlib import pylab\n",
        "import matplotlib.pyplot as plt\n",
        "import matplotlib as mpl\n",
        "mpl.rcParams.update(mpl.rcParamsDefault)\n",
        "import seaborn as sns\n",
        "import csv\n",
        "\n",
        "import scipy.stats as stats\n",
        "import statsmodels as sm\n",
        "\n",
        "import warnings\n",
        "warnings.filterwarnings('ignore')"
      ],
      "execution_count": 0,
      "outputs": []
    },
    {
      "metadata": {
        "id": "AsuZYQJa0oRA",
        "colab_type": "text"
      },
      "cell_type": "markdown",
      "source": [
        "## Link the notebook to the google drive to import the file"
      ]
    },
    {
      "metadata": {
        "id": "MvomD1Bf0yNg",
        "colab_type": "code",
        "outputId": "d6c6821b-012d-443c-b6b2-b74c43821c1d",
        "colab": {
          "base_uri": "https://localhost:8080/",
          "height": 34
        }
      },
      "cell_type": "code",
      "source": [
        "from google.colab import drive\n",
        "drive.mount('/content/gdrive')"
      ],
      "execution_count": 31,
      "outputs": [
        {
          "output_type": "stream",
          "text": [
            "Drive already mounted at /content/gdrive; to attempt to forcibly remount, call drive.mount(\"/content/gdrive\", force_remount=True).\n"
          ],
          "name": "stdout"
        }
      ]
    },
    {
      "metadata": {
        "id": "8S-WIfPx1Fc6",
        "colab_type": "code",
        "outputId": "03c82f82-ba75-4e73-df3a-4d4169a4a1ac",
        "colab": {
          "base_uri": "https://localhost:8080/",
          "height": 748
        }
      },
      "cell_type": "code",
      "source": [
        "# list data files are available in the data directory.\n",
        "# For example, running this (by clicking run or pressing Shift+Enter) will list the files in the input directory\n",
        "\n",
        "path = \"/content/gdrive/My Drive/Assessment_Data_Visualization/\"\n",
        "# path = \"/content/gdrive/Shared with me/Assessment_Data_Visualization/\"\n",
        "\n",
        "from subprocess import check_output\n",
        "print(check_output([\"ls\", path]).decode(\"utf8\"))\n",
        "\n",
        "# Any results you write to the current directory are saved as output."
      ],
      "execution_count": 32,
      "outputs": [
        {
          "output_type": "stream",
          "text": [
            "HS1-ALL-efficiency_metrics012019.csv\n",
            "HS1-ALL-extent_metrics012019.csv\n",
            "HS1-ALL-speedsmoothness_metrics012019.csv\n",
            "HS1-ALL-trial_list012019.csv\n",
            "HS2-ALL-efficiency_metrics011819.csv\n",
            "HS2-ALL-extent_metrics011819.csv\n",
            "HS2-ALL-speedsmoothness_metrics011819.csv\n",
            "HS2-ALL-trial_list011819.csv\n",
            "HS4-ALL-efficiency_metrics011719.csv\n",
            "HS4-ALL-extent_metrics011719.csv\n",
            "HS4-ALL-speedsmoothness_metrics011719.csv\n",
            "HS4-ALL-trial_list011719.csv\n",
            "HS5-ALL-efficiency_metrics011619.csv\n",
            "HS5-ALL-extent_metrics011619.csv\n",
            "HS5-ALL-speedsmoothness_metrics011619.csv\n",
            "HS5-ALL-trial_list011619.csv\n",
            "HS7-ALL-efficiency_metrics011819.csv\n",
            "HS7-ALL-extent_metrics011819.csv\n",
            "HS7-ALL-speedsmoothness_metrics011819.csv\n",
            "HS7-ALL-trial_list011819.csv\n",
            "HS8-ALL-efficiency_metrics011819.csv\n",
            "HS8-ALL-extent_metrics011819.csv\n",
            "HS8-ALL-speedsmoothness_metrics011819.csv\n",
            "HS8-ALL-trial_list011819.csv\n",
            "KL30-ALL-efficiency_metrics012019.csv\n",
            "KL30-ALL-efficiency_metrics012719.csv\n",
            "KL30-ALL-extent_metrics012019.csv\n",
            "KL30-ALL-extent_metrics012719.csv\n",
            "KL30-ALL-speedsmoothness_metrics012019.csv\n",
            "KL30-ALL-speedsmoothness_metrics012719.csv\n",
            "KL30-ALL-trial_list012019.csv\n",
            "KL30-ALL-trial_list012719.csv\n",
            "LSVT1-ALL-efficiency_metrics012019.csv\n",
            "LSVT1-ALL-extent_metrics012019.csv\n",
            "LSVT1-ALL-speedsmoothness_metrics012019.csv\n",
            "LSVT1-ALL-trial_list012019.csv\n",
            "LSVT2-ALL-efficiency_metrics012019.csv\n",
            "LSVT2-ALL-extent_metrics012019.csv\n",
            "LSVT2-ALL-speedsmoothness_metrics012019.csv\n",
            "LSVT2-ALL-trial_list012019.csv\n",
            "Visualization_of_assessment_outcomes-efficiency.ipynb\n",
            "Visualization_of_assessment_outcomes-smoothness.ipynb\n",
            "\n"
          ],
          "name": "stdout"
        }
      ]
    },
    {
      "metadata": {
        "id": "5t_BDkwVpnLn",
        "colab_type": "text"
      },
      "cell_type": "markdown",
      "source": [
        "## Select client"
      ]
    },
    {
      "metadata": {
        "id": "Qc8IAyO3pm3W",
        "colab_type": "code",
        "outputId": "5b77871a-c4bb-47a3-fbc9-5fdac844cd09",
        "colab": {
          "base_uri": "https://localhost:8080/",
          "height": 68
        }
      },
      "cell_type": "code",
      "source": [
        "# Choose a client for analysis\n",
        "# Client list: HS1, HS2, HS4, HS5, HS7, HS8, LSVT1, LSVT2\n",
        "Client = input('Select a client from the following list:\\nHS1, HS2, HS4, HS5, HS7, HS8, LSVT1, LSVT2\\n')"
      ],
      "execution_count": 33,
      "outputs": [
        {
          "output_type": "stream",
          "text": [
            "Select a client from the following list:\n",
            "HS1, HS2, HS4, HS5, HS7, HS8, LSVT1, LSVT2\n",
            "HS8\n"
          ],
          "name": "stdout"
        }
      ]
    },
    {
      "metadata": {
        "id": "6vNuwo044Jmb",
        "colab_type": "text"
      },
      "cell_type": "markdown",
      "source": [
        "## Find the files of the corresponding client under the directory"
      ]
    },
    {
      "metadata": {
        "id": "GHO5gXGb31qm",
        "colab_type": "code",
        "outputId": "8e559783-36f1-4e6e-af44-06156308d684",
        "colab": {
          "base_uri": "https://localhost:8080/",
          "height": 68
        }
      },
      "cell_type": "code",
      "source": [
        "healthy_data_file = 'KL30-ALL-speedsmoothness_metrics012719.csv'\n",
        "\n",
        "if Client == \"HS1\":\n",
        "  stroke_data_file = 'HS1-ALL-speedsmoothness_metrics012019.csv'\n",
        "  stroke_trial_file = 'HS1-ALL-trial_list012019.csv'\n",
        "  \n",
        "elif Client == \"HS2\":\n",
        "  stroke_data_file = 'HS2-ALL-speedsmoothness_metrics011819.csv'\n",
        "  stroke_trial_file = 'HS2-ALL-trial_list011819.csv'\n",
        "  \n",
        "elif Client == \"HS4\":\n",
        "  stroke_data_file = 'HS4-ALL-speedsmoothness_metrics011719.csv'\n",
        "  stroke_trial_file = 'HS4-ALL-trial_list011719.csv'\n",
        "  \n",
        "elif Client == \"HS5\":\n",
        "  stroke_data_file = 'HS5-ALL-speedsmoothness_metrics011619.csv'\n",
        "  stroke_trial_file = 'HS5-ALL-trial_list011619.csv'  \n",
        "\n",
        "elif Client == \"HS7\":\n",
        "  stroke_data_file = 'HS7-ALL-speedsmoothness_metrics011819.csv'\n",
        "  stroke_trial_file = 'HS7-ALL-trial_list011819.csv'\n",
        "  \n",
        "elif Client == \"HS8\":\n",
        "  stroke_data_file = 'HS8-ALL-speedsmoothness_metrics011819.csv'\n",
        "  stroke_trial_file = 'HS8-ALL-trial_list011819.csv'  \n",
        "  \n",
        "elif Client == \"LSVT1\":\n",
        "  stroke_data_file = 'LSVT1-ALL-speedsmoothness_metrics012019.csv'\n",
        "  stroke_trial_file = 'LSVT1-ALL-trial_list012019.csv'  \n",
        "  \n",
        "elif Client == \"LSVT2\":\n",
        "  stroke_data_file = 'LSVT2-ALL-speedsmoothness_metrics012019.csv'\n",
        "  stroke_trial_file = 'LSVT2-ALL-trial_list012019.csv'\n",
        "  \n",
        "else:\n",
        "  print(\"No records for selected client!\")\n",
        "  \n",
        "print(\"Files to be processed:\")\n",
        "print(stroke_data_file)\n",
        "print(stroke_trial_file)\n",
        "  "
      ],
      "execution_count": 34,
      "outputs": [
        {
          "output_type": "stream",
          "text": [
            "Files to be processed:\n",
            "HS8-ALL-speedsmoothness_metrics011819.csv\n",
            "HS8-ALL-trial_list011819.csv\n"
          ],
          "name": "stdout"
        }
      ]
    },
    {
      "metadata": {
        "id": "ljCEe8fa4qSq",
        "colab_type": "text"
      },
      "cell_type": "markdown",
      "source": [
        "## Some functions"
      ]
    },
    {
      "metadata": {
        "id": "NvhYYLuWN2I7",
        "colab_type": "code",
        "colab": {}
      },
      "cell_type": "code",
      "source": [
        "def read_trial_info(trial):\n",
        "    label = []\n",
        "    with open(trial, newline='') as csvfile:\n",
        "        reader = csv.reader(csvfile, delimiter=',')\n",
        "        for row in reader:\n",
        "            label.append(row[0])\n",
        "    partial_label = [x.split(\"_\") for x in label]\n",
        "      \n",
        "    return partial_label"
      ],
      "execution_count": 0,
      "outputs": []
    },
    {
      "metadata": {
        "id": "6mp9Dq6g40yw",
        "colab_type": "code",
        "colab": {}
      },
      "cell_type": "code",
      "source": [
        "def read_joint_file(trial):\n",
        "    \"\"\"\n",
        "    read_joint_file method: read the joint file(.csv) to an array\n",
        "    :param\n",
        "        trial: directory of the file to be read\n",
        "    :return:\n",
        "        an array of data read from the file.\n",
        "    \"\"\"\n",
        "    print(\"Reading trial -- \" + trial)\n",
        "\n",
        "    # read the actual data from .csv file\n",
        "    file_data = genfromtxt(trial, delimiter=',')\n",
        "    # print(type(file_data))\n",
        "\n",
        "    data_raw = file_data[:]\n",
        "\n",
        "    print(\"Finish Reading!\")\n",
        "\n",
        "    return data_raw"
      ],
      "execution_count": 0,
      "outputs": []
    },
    {
      "metadata": {
        "id": "rPShUsUpiBv6",
        "colab_type": "code",
        "colab": {}
      },
      "cell_type": "code",
      "source": [
        "def indexing_by_datatime(dataframe):\n",
        "  \"\"\"\n",
        "  Sort the rows of the input dataframe by the data and time. \n",
        "  Add an index column for sorted sequence.\n",
        "  input: A dataframe with _Date and _Time columns included.\n",
        "  return: The dataframe with rows sorted.\n",
        "  \"\"\"\n",
        "  \n",
        "  sorted_dataframe = dataframe.sort_values(['_Date','_Time'],ascending=[True, True])\n",
        "  sorted_dataframe['index'] = range(1, len(dataframe) + 1)\n",
        "  \n",
        "  return sorted_dataframe"
      ],
      "execution_count": 0,
      "outputs": []
    },
    {
      "metadata": {
        "id": "WFcObZ75YjZV",
        "colab_type": "code",
        "colab": {}
      },
      "cell_type": "code",
      "source": [
        "def compute_baseline(health_dataframe, metric_left, metric_right):\n",
        "  \"\"\"\n",
        "  input parameters: \n",
        "  health_dataframe: the dataframe with left and right hand metric columns including.\n",
        "  metric_left/right : the column name to compute the baseline. \n",
        "  \n",
        "  return parameters:\n",
        "  left/right_baseline: The average of the selected metric column.\n",
        "  \n",
        "  usage:\n",
        "  left_baseline, right_baseline = compute_baseline(health_df, metric_left, metric_right)\n",
        "  print(\"left baseline = {:f}, right baseline = {:f}.\".format(left_baseline, right_baseline))\n",
        "  \"\"\"\n",
        "  \n",
        "  left_baseline = health_df[metric_left].mean()\n",
        "  right_baseline = health_df[metric_right].mean()\n",
        "#   print(\"left baseline = {:f}, right baseline = {:f}.\".format(left_baseline, right_baseline))\n",
        "  \n",
        "  return left_baseline, right_baseline"
      ],
      "execution_count": 0,
      "outputs": []
    },
    {
      "metadata": {
        "colab_type": "code",
        "id": "xgNnKm7UIMuy",
        "colab": {}
      },
      "cell_type": "code",
      "source": [
        "def overtime_analysis(stroke_dataframe, metric_left, metric_right, title, baseline_dataframe=[]):\n",
        "  \n",
        "  plot_baseline = False\n",
        "  # compute the baseline if the health dataframe is available.\n",
        "  if len(baseline_dataframe) != 0 :\n",
        "    plot_baseline = True\n",
        "    left_baseline, right_baseline = compute_baseline(baseline_dataframe, metric_left, metric_right)\n",
        "  else:\n",
        "    print(\"Baseline is not available!\")\n",
        "    \n",
        "  stroke_dataframe[metric_left]  = stroke_dataframe[metric_left].convert_objects(convert_numeric=True)\n",
        "  stroke_dataframe[metric_right] = stroke_dataframe[metric_right].convert_objects(convert_numeric=True)\n",
        "  \n",
        "  if metric_left == 'Norm_Jerk_3d_Left':\n",
        "      stroke_dataframe[metric_left]  = np.log10(stroke_dataframe[metric_left])\n",
        "      stroke_dataframe[metric_right] = np.log10(stroke_dataframe[metric_right])\n",
        "      \n",
        "      left_baseline = np.log10(left_baseline)\n",
        "      right_baseline = np.log10(right_baseline)\n",
        "  \n",
        "  print(\"left baseline = {:f}, right baseline = {:f}.\".format(left_baseline, right_baseline))\n",
        "    \n",
        "  # sort the rows of the analysis dataframe by data and time\n",
        "  analysis_df = indexing_by_datatime(stroke_dataframe)\n",
        "  \n",
        "  fig = plt.figure()\n",
        "  fig.set_size_inches(12.5, 8.5)\n",
        "  ax = fig.add_subplot(111)\n",
        "  sns.regplot(x='index', y=metric_left , data=analysis_df, order=2)\n",
        "  sns.regplot(x='index', y=metric_right, data=analysis_df, order=2)\n",
        "\n",
        "  if plot_baseline == True:\n",
        "    plt.axhline(y= left_baseline , color = 'purple', linestyle='--')\n",
        "    plt.axhline(y= right_baseline, color = 'blue'  , linestyle='--')\n",
        "\n",
        "  plt.xticks(analysis_df['index'],analysis_df[\"_Date\"],rotation = 90)\n",
        "  \n",
        "  plt.title(title)\n",
        "  plt.xlabel(\"trials\")\n",
        "  plt.ylabel(metric_left[:len(metric_left)-5])\n",
        "\n",
        "  ax.grid(False)\n",
        "\n",
        "  plt.show()\n",
        "  \n",
        "  return analysis_df\n",
        "  \n",
        "  "
      ],
      "execution_count": 0,
      "outputs": []
    },
    {
      "metadata": {
        "id": "E-I47G0O5KzN",
        "colab_type": "text"
      },
      "cell_type": "markdown",
      "source": [
        "## Import the base line: Healthy subjects assessment results"
      ]
    },
    {
      "metadata": {
        "id": "n4N0HOSY5KVN",
        "colab_type": "code",
        "outputId": "64876159-85f0-4464-8a32-c5b795a19df6",
        "colab": {
          "base_uri": "https://localhost:8080/",
          "height": 51
        }
      },
      "cell_type": "code",
      "source": [
        "healthy_data = read_joint_file(path + healthy_data_file)\n",
        "# print (type(healthy_data))"
      ],
      "execution_count": 40,
      "outputs": [
        {
          "output_type": "stream",
          "text": [
            "Reading trial -- /content/gdrive/My Drive/Assessment_Data_Visualization/KL30-ALL-speedsmoothness_metrics012719.csv\n",
            "Finish Reading!\n"
          ],
          "name": "stdout"
        }
      ]
    },
    {
      "metadata": {
        "id": "Avh0yRIi-w-q",
        "colab_type": "code",
        "outputId": "9eb57fab-abad-455a-da3a-d7377d17e8d1",
        "colab": {
          "base_uri": "https://localhost:8080/",
          "height": 241
        }
      },
      "cell_type": "code",
      "source": [
        "headers = ['Max_Speed_Left', 'Max_Speed_Right',\t'Mean_Speed_Left',\t'Mean_Speed_Right','Mean/Max_Left',\t'Mean/Max_Right',\t\\\n",
        "           'Norm_Jerk_x_Left',\t'Norm_Jerk_y_Left',\t'Norm_Jerk_z_Left',\t'Norm_Jerk_x_Right',\t'Norm_Jerk_y_Right',\t'Norm_Jerk_z_Right',\\\n",
        "           'Norm_Jerk_3d_Left',\t'Norm_Jerk_3d_Right']\n",
        "\n",
        "health_trial_data_dict = dict(zip(headers, healthy_data.T))\n",
        "\n",
        "health_df = pd.DataFrame(health_trial_data_dict)\n",
        "\n",
        "print(\"Display the first five rows of the healthy subject table\")\n",
        "display(health_df[:5])"
      ],
      "execution_count": 41,
      "outputs": [
        {
          "output_type": "stream",
          "text": [
            "Display the first five rows of the healthy subject table\n"
          ],
          "name": "stdout"
        },
        {
          "output_type": "display_data",
          "data": {
            "text/html": [
              "<div>\n",
              "<style scoped>\n",
              "    .dataframe tbody tr th:only-of-type {\n",
              "        vertical-align: middle;\n",
              "    }\n",
              "\n",
              "    .dataframe tbody tr th {\n",
              "        vertical-align: top;\n",
              "    }\n",
              "\n",
              "    .dataframe thead th {\n",
              "        text-align: right;\n",
              "    }\n",
              "</style>\n",
              "<table border=\"1\" class=\"dataframe\">\n",
              "  <thead>\n",
              "    <tr style=\"text-align: right;\">\n",
              "      <th></th>\n",
              "      <th>Max_Speed_Left</th>\n",
              "      <th>Max_Speed_Right</th>\n",
              "      <th>Mean/Max_Left</th>\n",
              "      <th>Mean/Max_Right</th>\n",
              "      <th>Mean_Speed_Left</th>\n",
              "      <th>Mean_Speed_Right</th>\n",
              "      <th>Norm_Jerk_3d_Left</th>\n",
              "      <th>Norm_Jerk_3d_Right</th>\n",
              "      <th>Norm_Jerk_x_Left</th>\n",
              "      <th>Norm_Jerk_x_Right</th>\n",
              "      <th>Norm_Jerk_y_Left</th>\n",
              "      <th>Norm_Jerk_y_Right</th>\n",
              "      <th>Norm_Jerk_z_Left</th>\n",
              "      <th>Norm_Jerk_z_Right</th>\n",
              "    </tr>\n",
              "  </thead>\n",
              "  <tbody>\n",
              "    <tr>\n",
              "      <th>0</th>\n",
              "      <td>3393.218116</td>\n",
              "      <td>3605.976500</td>\n",
              "      <td>0.176971</td>\n",
              "      <td>0.176234</td>\n",
              "      <td>600.502711</td>\n",
              "      <td>635.495533</td>\n",
              "      <td>2.648620e+08</td>\n",
              "      <td>1.776661e+08</td>\n",
              "      <td>1.561381e+08</td>\n",
              "      <td>1.022035e+08</td>\n",
              "      <td>1.629627e+08</td>\n",
              "      <td>1.269316e+08</td>\n",
              "      <td>1.386214e+08</td>\n",
              "      <td>7.076772e+07</td>\n",
              "    </tr>\n",
              "    <tr>\n",
              "      <th>1</th>\n",
              "      <td>2831.433207</td>\n",
              "      <td>2709.645147</td>\n",
              "      <td>0.141181</td>\n",
              "      <td>0.120806</td>\n",
              "      <td>399.745659</td>\n",
              "      <td>327.342649</td>\n",
              "      <td>7.830709e+06</td>\n",
              "      <td>2.209764e+06</td>\n",
              "      <td>3.465444e+06</td>\n",
              "      <td>1.113683e+06</td>\n",
              "      <td>3.538921e+06</td>\n",
              "      <td>6.251355e+05</td>\n",
              "      <td>6.065207e+06</td>\n",
              "      <td>1.803322e+06</td>\n",
              "    </tr>\n",
              "    <tr>\n",
              "      <th>2</th>\n",
              "      <td>3068.287801</td>\n",
              "      <td>2847.551826</td>\n",
              "      <td>0.118745</td>\n",
              "      <td>0.094450</td>\n",
              "      <td>364.342787</td>\n",
              "      <td>268.952583</td>\n",
              "      <td>2.563579e+07</td>\n",
              "      <td>3.135474e+06</td>\n",
              "      <td>1.258907e+07</td>\n",
              "      <td>1.146626e+06</td>\n",
              "      <td>9.282589e+06</td>\n",
              "      <td>1.150423e+06</td>\n",
              "      <td>2.031114e+07</td>\n",
              "      <td>2.681972e+06</td>\n",
              "    </tr>\n",
              "    <tr>\n",
              "      <th>3</th>\n",
              "      <td>2639.154970</td>\n",
              "      <td>2397.243587</td>\n",
              "      <td>0.149983</td>\n",
              "      <td>0.144286</td>\n",
              "      <td>395.827858</td>\n",
              "      <td>345.887684</td>\n",
              "      <td>7.461992e+06</td>\n",
              "      <td>2.624112e+06</td>\n",
              "      <td>4.573996e+06</td>\n",
              "      <td>1.934620e+06</td>\n",
              "      <td>3.578333e+06</td>\n",
              "      <td>7.321612e+05</td>\n",
              "      <td>4.685660e+06</td>\n",
              "      <td>1.614668e+06</td>\n",
              "    </tr>\n",
              "    <tr>\n",
              "      <th>4</th>\n",
              "      <td>5018.843340</td>\n",
              "      <td>2976.660520</td>\n",
              "      <td>0.069807</td>\n",
              "      <td>0.089550</td>\n",
              "      <td>350.349824</td>\n",
              "      <td>266.558623</td>\n",
              "      <td>5.455680e+07</td>\n",
              "      <td>1.214297e+07</td>\n",
              "      <td>3.559857e+07</td>\n",
              "      <td>7.770406e+06</td>\n",
              "      <td>2.091481e+07</td>\n",
              "      <td>4.406664e+06</td>\n",
              "      <td>3.566171e+07</td>\n",
              "      <td>8.225197e+06</td>\n",
              "    </tr>\n",
              "  </tbody>\n",
              "</table>\n",
              "</div>"
            ],
            "text/plain": [
              "   Max_Speed_Left  Max_Speed_Right  Mean/Max_Left  Mean/Max_Right  \\\n",
              "0     3393.218116      3605.976500       0.176971        0.176234   \n",
              "1     2831.433207      2709.645147       0.141181        0.120806   \n",
              "2     3068.287801      2847.551826       0.118745        0.094450   \n",
              "3     2639.154970      2397.243587       0.149983        0.144286   \n",
              "4     5018.843340      2976.660520       0.069807        0.089550   \n",
              "\n",
              "   Mean_Speed_Left  Mean_Speed_Right  Norm_Jerk_3d_Left  Norm_Jerk_3d_Right  \\\n",
              "0       600.502711        635.495533       2.648620e+08        1.776661e+08   \n",
              "1       399.745659        327.342649       7.830709e+06        2.209764e+06   \n",
              "2       364.342787        268.952583       2.563579e+07        3.135474e+06   \n",
              "3       395.827858        345.887684       7.461992e+06        2.624112e+06   \n",
              "4       350.349824        266.558623       5.455680e+07        1.214297e+07   \n",
              "\n",
              "   Norm_Jerk_x_Left  Norm_Jerk_x_Right  Norm_Jerk_y_Left  Norm_Jerk_y_Right  \\\n",
              "0      1.561381e+08       1.022035e+08      1.629627e+08       1.269316e+08   \n",
              "1      3.465444e+06       1.113683e+06      3.538921e+06       6.251355e+05   \n",
              "2      1.258907e+07       1.146626e+06      9.282589e+06       1.150423e+06   \n",
              "3      4.573996e+06       1.934620e+06      3.578333e+06       7.321612e+05   \n",
              "4      3.559857e+07       7.770406e+06      2.091481e+07       4.406664e+06   \n",
              "\n",
              "   Norm_Jerk_z_Left  Norm_Jerk_z_Right  \n",
              "0      1.386214e+08       7.076772e+07  \n",
              "1      6.065207e+06       1.803322e+06  \n",
              "2      2.031114e+07       2.681972e+06  \n",
              "3      4.685660e+06       1.614668e+06  \n",
              "4      3.566171e+07       8.225197e+06  "
            ]
          },
          "metadata": {
            "tags": []
          }
        }
      ]
    },
    {
      "metadata": {
        "id": "MaiQ-6FT7bXg",
        "colab_type": "text"
      },
      "cell_type": "markdown",
      "source": [
        "## Import the stroke data"
      ]
    },
    {
      "metadata": {
        "id": "790pV6jI7e7h",
        "colab_type": "code",
        "outputId": "69401d5c-c34c-4197-8ee0-931c13d4fe4e",
        "colab": {
          "base_uri": "https://localhost:8080/",
          "height": 391
        }
      },
      "cell_type": "code",
      "source": [
        "stroke_data = read_joint_file(path + stroke_data_file)\n",
        "\n",
        "print(\"stroke data:\\n\" + str(stroke_data[:3,:]))\n",
        "print(stroke_data.shape)\n",
        "\n",
        "\n",
        "trail_info = read_trial_info(path + stroke_trial_file)\n",
        "trail_info = np.asarray(trail_info)\n",
        "print(\"trail_info: \\n\" + str(trail_info[:5,:]))"
      ],
      "execution_count": 59,
      "outputs": [
        {
          "output_type": "stream",
          "text": [
            "Reading trial -- /content/gdrive/My Drive/Assessment_Data_Visualization/HS8-ALL-speedsmoothness_metrics011819.csv\n",
            "Finish Reading!\n",
            "stroke data:\n",
            "[[2.20108003e+03 4.61489673e+03 2.86560488e+02 4.15932399e+02\n",
            "  1.30191000e-01 9.01280000e-02 1.42283618e+07 1.50270893e+07\n",
            "  9.61954487e+06 6.17328328e+06 6.14895292e+06 8.22340217e+06\n",
            "  2.28209407e+07 1.19809596e+07]\n",
            " [3.32078127e+03 5.12214706e+03 1.89666181e+02 1.46903015e+02\n",
            "  5.71150000e-02 2.86800000e-02 4.49798134e+08 6.09039967e+08\n",
            "  5.72638955e+08 1.11924472e+09 2.10810418e+09 2.72529974e+09\n",
            "  9.49296274e+08 3.62271592e+09]\n",
            " [3.01913829e+03 4.10010638e+03 1.79405015e+02 2.53171018e+02\n",
            "  5.94230000e-02 6.17470000e-02 1.26992290e+08 1.31937452e+08\n",
            "  1.28183528e+08 4.67456025e+07 4.90637140e+07 8.59688278e+07\n",
            "  2.23529751e+08 1.09467067e+08]]\n",
            "(58, 14)\n",
            "trail_info: \n",
            "[['6-12-2018' '10-41-AM' 'KL2HS' '008' 'Stand Stepping']\n",
            " ['6-14-2018' '12-06-PM' 'KL2HS' '008' 'Standing']\n",
            " ['6-14-2018' '12-14-PM' 'KL2HS' '008' 'Standing']\n",
            " ['6-14-2018' '12-16-PM' 'KL2HS' '008' 'Standing']\n",
            " ['6-14-2018' '12-18-PM' 'KL2HS' '008' 'Standing']]\n"
          ],
          "name": "stdout"
        }
      ]
    },
    {
      "metadata": {
        "id": "_lWgwm67CvpB",
        "colab_type": "text"
      },
      "cell_type": "markdown",
      "source": [
        "## Build up a pandas table of the stroke assessment data"
      ]
    },
    {
      "metadata": {
        "id": "240naO6aC5GR",
        "colab_type": "code",
        "outputId": "2b42c0df-49d2-4c39-af1e-264685b17802",
        "colab": {
          "base_uri": "https://localhost:8080/",
          "height": 394
        }
      },
      "cell_type": "code",
      "source": [
        "headers = ['_Date','_Time','_Player','_PlayerId','_Type', \\\n",
        "           'Max_Speed_Left', 'Max_Speed_Right',\t'Mean_Speed_Left',\t'Mean_Speed_Right','Mean/Max_Left',\t'Mean/Max_Right',\t\\\n",
        "           'Norm_Jerk_x_Left',\t'Norm_Jerk_y_Left',\t'Norm_Jerk_z_Left',\t'Norm_Jerk_x_Right',\t'Norm_Jerk_y_Right',\t'Norm_Jerk_z_Right',\\\n",
        "           'Norm_Jerk_3d_Left',\t'Norm_Jerk_3d_Right']\n",
        "\n",
        "stroke_trial_data = np.concatenate((trail_info, stroke_data), axis=1)\n",
        "# print(\"trial with data: \\n\" + str(stroke_trial_data[:3,0:3]))\n",
        "\n",
        "stroke_trial_data_dict = dict(zip(headers, stroke_trial_data.T))\n",
        "\n",
        "stroke_df = pd.DataFrame(stroke_trial_data_dict)\n",
        "# # print(stroke_df.head())\n",
        "\n",
        "display(stroke_df[:5])"
      ],
      "execution_count": 67,
      "outputs": [
        {
          "output_type": "display_data",
          "data": {
            "text/html": [
              "<div>\n",
              "<style scoped>\n",
              "    .dataframe tbody tr th:only-of-type {\n",
              "        vertical-align: middle;\n",
              "    }\n",
              "\n",
              "    .dataframe tbody tr th {\n",
              "        vertical-align: top;\n",
              "    }\n",
              "\n",
              "    .dataframe thead th {\n",
              "        text-align: right;\n",
              "    }\n",
              "</style>\n",
              "<table border=\"1\" class=\"dataframe\">\n",
              "  <thead>\n",
              "    <tr style=\"text-align: right;\">\n",
              "      <th></th>\n",
              "      <th>Max_Speed_Left</th>\n",
              "      <th>Max_Speed_Right</th>\n",
              "      <th>Mean/Max_Left</th>\n",
              "      <th>Mean/Max_Right</th>\n",
              "      <th>Mean_Speed_Left</th>\n",
              "      <th>Mean_Speed_Right</th>\n",
              "      <th>Norm_Jerk_3d_Left</th>\n",
              "      <th>Norm_Jerk_3d_Right</th>\n",
              "      <th>Norm_Jerk_x_Left</th>\n",
              "      <th>Norm_Jerk_x_Right</th>\n",
              "      <th>Norm_Jerk_y_Left</th>\n",
              "      <th>Norm_Jerk_y_Right</th>\n",
              "      <th>Norm_Jerk_z_Left</th>\n",
              "      <th>Norm_Jerk_z_Right</th>\n",
              "      <th>_Date</th>\n",
              "      <th>_Player</th>\n",
              "      <th>_PlayerId</th>\n",
              "      <th>_Time</th>\n",
              "      <th>_Type</th>\n",
              "    </tr>\n",
              "  </thead>\n",
              "  <tbody>\n",
              "    <tr>\n",
              "      <th>0</th>\n",
              "      <td>2201.080035</td>\n",
              "      <td>4614.896726</td>\n",
              "      <td>0.130191</td>\n",
              "      <td>0.090128</td>\n",
              "      <td>286.560488</td>\n",
              "      <td>415.932399</td>\n",
              "      <td>22820940.738064</td>\n",
              "      <td>11980959.553106</td>\n",
              "      <td>14228361.836734</td>\n",
              "      <td>6173283.280333</td>\n",
              "      <td>15027089.277125</td>\n",
              "      <td>6148952.924066</td>\n",
              "      <td>9619544.868158</td>\n",
              "      <td>8223402.172553</td>\n",
              "      <td>6-12-2018</td>\n",
              "      <td>KL2HS</td>\n",
              "      <td>008</td>\n",
              "      <td>10-41-AM</td>\n",
              "      <td>Stand Stepping</td>\n",
              "    </tr>\n",
              "    <tr>\n",
              "      <th>1</th>\n",
              "      <td>3320.781275</td>\n",
              "      <td>5122.147055</td>\n",
              "      <td>0.057115</td>\n",
              "      <td>0.02868</td>\n",
              "      <td>189.666181</td>\n",
              "      <td>146.903015</td>\n",
              "      <td>949296274.053083</td>\n",
              "      <td>3622715921.908332</td>\n",
              "      <td>449798134.026533</td>\n",
              "      <td>1119244717.897915</td>\n",
              "      <td>609039967.463679</td>\n",
              "      <td>2108104175.982667</td>\n",
              "      <td>572638954.830314</td>\n",
              "      <td>2725299744.158464</td>\n",
              "      <td>6-14-2018</td>\n",
              "      <td>KL2HS</td>\n",
              "      <td>008</td>\n",
              "      <td>12-06-PM</td>\n",
              "      <td>Standing</td>\n",
              "    </tr>\n",
              "    <tr>\n",
              "      <th>2</th>\n",
              "      <td>3019.138291</td>\n",
              "      <td>4100.106382</td>\n",
              "      <td>0.059423</td>\n",
              "      <td>0.061747</td>\n",
              "      <td>179.405015</td>\n",
              "      <td>253.171018</td>\n",
              "      <td>223529751.428706</td>\n",
              "      <td>109467066.889227</td>\n",
              "      <td>126992289.871804</td>\n",
              "      <td>46745602.457871</td>\n",
              "      <td>131937451.944508</td>\n",
              "      <td>49063713.959274</td>\n",
              "      <td>128183528.041965</td>\n",
              "      <td>85968827.819761</td>\n",
              "      <td>6-14-2018</td>\n",
              "      <td>KL2HS</td>\n",
              "      <td>008</td>\n",
              "      <td>12-14-PM</td>\n",
              "      <td>Standing</td>\n",
              "    </tr>\n",
              "    <tr>\n",
              "      <th>3</th>\n",
              "      <td>4369.244091</td>\n",
              "      <td>4334.584333</td>\n",
              "      <td>0.040906</td>\n",
              "      <td>0.050228</td>\n",
              "      <td>178.727087</td>\n",
              "      <td>217.71705</td>\n",
              "      <td>1132190459.358264</td>\n",
              "      <td>782983866.816216</td>\n",
              "      <td>510651595.412644</td>\n",
              "      <td>389357195.21446</td>\n",
              "      <td>561723512.69486</td>\n",
              "      <td>423567597.763808</td>\n",
              "      <td>839974332.732939</td>\n",
              "      <td>531088693.490834</td>\n",
              "      <td>6-14-2018</td>\n",
              "      <td>KL2HS</td>\n",
              "      <td>008</td>\n",
              "      <td>12-16-PM</td>\n",
              "      <td>Standing</td>\n",
              "    </tr>\n",
              "    <tr>\n",
              "      <th>4</th>\n",
              "      <td>4556.347892</td>\n",
              "      <td>5300.658595</td>\n",
              "      <td>0.049656</td>\n",
              "      <td>0.04515</td>\n",
              "      <td>226.248362</td>\n",
              "      <td>239.324994</td>\n",
              "      <td>6035870473.644961</td>\n",
              "      <td>13860267984.82382</td>\n",
              "      <td>2763787387.004766</td>\n",
              "      <td>5840019893.764922</td>\n",
              "      <td>3030279990.256793</td>\n",
              "      <td>5938432398.009976</td>\n",
              "      <td>4428387385.347132</td>\n",
              "      <td>11078637863.285692</td>\n",
              "      <td>6-14-2018</td>\n",
              "      <td>KL2HS</td>\n",
              "      <td>008</td>\n",
              "      <td>12-18-PM</td>\n",
              "      <td>Standing</td>\n",
              "    </tr>\n",
              "  </tbody>\n",
              "</table>\n",
              "</div>"
            ],
            "text/plain": [
              "  Max_Speed_Left Max_Speed_Right Mean/Max_Left Mean/Max_Right Mean_Speed_Left  \\\n",
              "0    2201.080035     4614.896726      0.130191       0.090128      286.560488   \n",
              "1    3320.781275     5122.147055      0.057115        0.02868      189.666181   \n",
              "2    3019.138291     4100.106382      0.059423       0.061747      179.405015   \n",
              "3    4369.244091     4334.584333      0.040906       0.050228      178.727087   \n",
              "4    4556.347892     5300.658595      0.049656        0.04515      226.248362   \n",
              "\n",
              "  Mean_Speed_Right  Norm_Jerk_3d_Left Norm_Jerk_3d_Right   Norm_Jerk_x_Left  \\\n",
              "0       415.932399    22820940.738064    11980959.553106    14228361.836734   \n",
              "1       146.903015   949296274.053083  3622715921.908332   449798134.026533   \n",
              "2       253.171018   223529751.428706   109467066.889227   126992289.871804   \n",
              "3        217.71705  1132190459.358264   782983866.816216   510651595.412644   \n",
              "4       239.324994  6035870473.644961  13860267984.82382  2763787387.004766   \n",
              "\n",
              "   Norm_Jerk_x_Right   Norm_Jerk_y_Left  Norm_Jerk_y_Right   Norm_Jerk_z_Left  \\\n",
              "0     6173283.280333    15027089.277125     6148952.924066     9619544.868158   \n",
              "1  1119244717.897915   609039967.463679  2108104175.982667   572638954.830314   \n",
              "2    46745602.457871   131937451.944508    49063713.959274   128183528.041965   \n",
              "3    389357195.21446    561723512.69486   423567597.763808   839974332.732939   \n",
              "4  5840019893.764922  3030279990.256793  5938432398.009976  4428387385.347132   \n",
              "\n",
              "    Norm_Jerk_z_Right      _Date _Player _PlayerId     _Time           _Type  \n",
              "0      8223402.172553  6-12-2018   KL2HS       008  10-41-AM  Stand Stepping  \n",
              "1   2725299744.158464  6-14-2018   KL2HS       008  12-06-PM        Standing  \n",
              "2     85968827.819761  6-14-2018   KL2HS       008  12-14-PM        Standing  \n",
              "3    531088693.490834  6-14-2018   KL2HS       008  12-16-PM        Standing  \n",
              "4  11078637863.285692  6-14-2018   KL2HS       008  12-18-PM        Standing  "
            ]
          },
          "metadata": {
            "tags": []
          }
        }
      ]
    },
    {
      "metadata": {
        "id": "28y7xwGHCM58",
        "colab_type": "code",
        "colab": {}
      },
      "cell_type": "code",
      "source": [
        "# stroke_df['_Date'] = pd.to_datetime(stroke_df['_Date'])\n",
        "# display(stroke_df[:5])"
      ],
      "execution_count": 0,
      "outputs": []
    },
    {
      "metadata": {
        "id": "zhAiUzIhAcLP",
        "colab_type": "text"
      },
      "cell_type": "markdown",
      "source": [
        "## Format the date column by padding zeros"
      ]
    },
    {
      "metadata": {
        "id": "bJiqdgoQ9R5b",
        "colab_type": "code",
        "outputId": "2bed0ae8-33a8-415b-d83d-90390d4ceb63",
        "colab": {
          "base_uri": "https://localhost:8080/",
          "height": 394
        }
      },
      "cell_type": "code",
      "source": [
        "def date_format(str):\n",
        "  str_split = str.split(\"-\")\n",
        "  str_format = str_split[0].zfill(2) + '-' + str_split[1].zfill(2) + '-' + str_split[2].zfill(4)\n",
        "  \n",
        "  return str_format\n",
        "\n",
        "stroke_df['_Date'] = np.asarray(list(map(date_format, stroke_df['_Date'])))\n",
        "\n",
        "display(stroke_df[:5])"
      ],
      "execution_count": 68,
      "outputs": [
        {
          "output_type": "display_data",
          "data": {
            "text/html": [
              "<div>\n",
              "<style scoped>\n",
              "    .dataframe tbody tr th:only-of-type {\n",
              "        vertical-align: middle;\n",
              "    }\n",
              "\n",
              "    .dataframe tbody tr th {\n",
              "        vertical-align: top;\n",
              "    }\n",
              "\n",
              "    .dataframe thead th {\n",
              "        text-align: right;\n",
              "    }\n",
              "</style>\n",
              "<table border=\"1\" class=\"dataframe\">\n",
              "  <thead>\n",
              "    <tr style=\"text-align: right;\">\n",
              "      <th></th>\n",
              "      <th>Max_Speed_Left</th>\n",
              "      <th>Max_Speed_Right</th>\n",
              "      <th>Mean/Max_Left</th>\n",
              "      <th>Mean/Max_Right</th>\n",
              "      <th>Mean_Speed_Left</th>\n",
              "      <th>Mean_Speed_Right</th>\n",
              "      <th>Norm_Jerk_3d_Left</th>\n",
              "      <th>Norm_Jerk_3d_Right</th>\n",
              "      <th>Norm_Jerk_x_Left</th>\n",
              "      <th>Norm_Jerk_x_Right</th>\n",
              "      <th>Norm_Jerk_y_Left</th>\n",
              "      <th>Norm_Jerk_y_Right</th>\n",
              "      <th>Norm_Jerk_z_Left</th>\n",
              "      <th>Norm_Jerk_z_Right</th>\n",
              "      <th>_Date</th>\n",
              "      <th>_Player</th>\n",
              "      <th>_PlayerId</th>\n",
              "      <th>_Time</th>\n",
              "      <th>_Type</th>\n",
              "    </tr>\n",
              "  </thead>\n",
              "  <tbody>\n",
              "    <tr>\n",
              "      <th>0</th>\n",
              "      <td>2201.080035</td>\n",
              "      <td>4614.896726</td>\n",
              "      <td>0.130191</td>\n",
              "      <td>0.090128</td>\n",
              "      <td>286.560488</td>\n",
              "      <td>415.932399</td>\n",
              "      <td>22820940.738064</td>\n",
              "      <td>11980959.553106</td>\n",
              "      <td>14228361.836734</td>\n",
              "      <td>6173283.280333</td>\n",
              "      <td>15027089.277125</td>\n",
              "      <td>6148952.924066</td>\n",
              "      <td>9619544.868158</td>\n",
              "      <td>8223402.172553</td>\n",
              "      <td>06-12-2018</td>\n",
              "      <td>KL2HS</td>\n",
              "      <td>008</td>\n",
              "      <td>10-41-AM</td>\n",
              "      <td>Stand Stepping</td>\n",
              "    </tr>\n",
              "    <tr>\n",
              "      <th>1</th>\n",
              "      <td>3320.781275</td>\n",
              "      <td>5122.147055</td>\n",
              "      <td>0.057115</td>\n",
              "      <td>0.02868</td>\n",
              "      <td>189.666181</td>\n",
              "      <td>146.903015</td>\n",
              "      <td>949296274.053083</td>\n",
              "      <td>3622715921.908332</td>\n",
              "      <td>449798134.026533</td>\n",
              "      <td>1119244717.897915</td>\n",
              "      <td>609039967.463679</td>\n",
              "      <td>2108104175.982667</td>\n",
              "      <td>572638954.830314</td>\n",
              "      <td>2725299744.158464</td>\n",
              "      <td>06-14-2018</td>\n",
              "      <td>KL2HS</td>\n",
              "      <td>008</td>\n",
              "      <td>12-06-PM</td>\n",
              "      <td>Standing</td>\n",
              "    </tr>\n",
              "    <tr>\n",
              "      <th>2</th>\n",
              "      <td>3019.138291</td>\n",
              "      <td>4100.106382</td>\n",
              "      <td>0.059423</td>\n",
              "      <td>0.061747</td>\n",
              "      <td>179.405015</td>\n",
              "      <td>253.171018</td>\n",
              "      <td>223529751.428706</td>\n",
              "      <td>109467066.889227</td>\n",
              "      <td>126992289.871804</td>\n",
              "      <td>46745602.457871</td>\n",
              "      <td>131937451.944508</td>\n",
              "      <td>49063713.959274</td>\n",
              "      <td>128183528.041965</td>\n",
              "      <td>85968827.819761</td>\n",
              "      <td>06-14-2018</td>\n",
              "      <td>KL2HS</td>\n",
              "      <td>008</td>\n",
              "      <td>12-14-PM</td>\n",
              "      <td>Standing</td>\n",
              "    </tr>\n",
              "    <tr>\n",
              "      <th>3</th>\n",
              "      <td>4369.244091</td>\n",
              "      <td>4334.584333</td>\n",
              "      <td>0.040906</td>\n",
              "      <td>0.050228</td>\n",
              "      <td>178.727087</td>\n",
              "      <td>217.71705</td>\n",
              "      <td>1132190459.358264</td>\n",
              "      <td>782983866.816216</td>\n",
              "      <td>510651595.412644</td>\n",
              "      <td>389357195.21446</td>\n",
              "      <td>561723512.69486</td>\n",
              "      <td>423567597.763808</td>\n",
              "      <td>839974332.732939</td>\n",
              "      <td>531088693.490834</td>\n",
              "      <td>06-14-2018</td>\n",
              "      <td>KL2HS</td>\n",
              "      <td>008</td>\n",
              "      <td>12-16-PM</td>\n",
              "      <td>Standing</td>\n",
              "    </tr>\n",
              "    <tr>\n",
              "      <th>4</th>\n",
              "      <td>4556.347892</td>\n",
              "      <td>5300.658595</td>\n",
              "      <td>0.049656</td>\n",
              "      <td>0.04515</td>\n",
              "      <td>226.248362</td>\n",
              "      <td>239.324994</td>\n",
              "      <td>6035870473.644961</td>\n",
              "      <td>13860267984.82382</td>\n",
              "      <td>2763787387.004766</td>\n",
              "      <td>5840019893.764922</td>\n",
              "      <td>3030279990.256793</td>\n",
              "      <td>5938432398.009976</td>\n",
              "      <td>4428387385.347132</td>\n",
              "      <td>11078637863.285692</td>\n",
              "      <td>06-14-2018</td>\n",
              "      <td>KL2HS</td>\n",
              "      <td>008</td>\n",
              "      <td>12-18-PM</td>\n",
              "      <td>Standing</td>\n",
              "    </tr>\n",
              "  </tbody>\n",
              "</table>\n",
              "</div>"
            ],
            "text/plain": [
              "  Max_Speed_Left Max_Speed_Right Mean/Max_Left Mean/Max_Right Mean_Speed_Left  \\\n",
              "0    2201.080035     4614.896726      0.130191       0.090128      286.560488   \n",
              "1    3320.781275     5122.147055      0.057115        0.02868      189.666181   \n",
              "2    3019.138291     4100.106382      0.059423       0.061747      179.405015   \n",
              "3    4369.244091     4334.584333      0.040906       0.050228      178.727087   \n",
              "4    4556.347892     5300.658595      0.049656        0.04515      226.248362   \n",
              "\n",
              "  Mean_Speed_Right  Norm_Jerk_3d_Left Norm_Jerk_3d_Right   Norm_Jerk_x_Left  \\\n",
              "0       415.932399    22820940.738064    11980959.553106    14228361.836734   \n",
              "1       146.903015   949296274.053083  3622715921.908332   449798134.026533   \n",
              "2       253.171018   223529751.428706   109467066.889227   126992289.871804   \n",
              "3        217.71705  1132190459.358264   782983866.816216   510651595.412644   \n",
              "4       239.324994  6035870473.644961  13860267984.82382  2763787387.004766   \n",
              "\n",
              "   Norm_Jerk_x_Right   Norm_Jerk_y_Left  Norm_Jerk_y_Right   Norm_Jerk_z_Left  \\\n",
              "0     6173283.280333    15027089.277125     6148952.924066     9619544.868158   \n",
              "1  1119244717.897915   609039967.463679  2108104175.982667   572638954.830314   \n",
              "2    46745602.457871   131937451.944508    49063713.959274   128183528.041965   \n",
              "3    389357195.21446    561723512.69486   423567597.763808   839974332.732939   \n",
              "4  5840019893.764922  3030279990.256793  5938432398.009976  4428387385.347132   \n",
              "\n",
              "    Norm_Jerk_z_Right       _Date _Player _PlayerId     _Time           _Type  \n",
              "0      8223402.172553  06-12-2018   KL2HS       008  10-41-AM  Stand Stepping  \n",
              "1   2725299744.158464  06-14-2018   KL2HS       008  12-06-PM        Standing  \n",
              "2     85968827.819761  06-14-2018   KL2HS       008  12-14-PM        Standing  \n",
              "3    531088693.490834  06-14-2018   KL2HS       008  12-16-PM        Standing  \n",
              "4  11078637863.285692  06-14-2018   KL2HS       008  12-18-PM        Standing  "
            ]
          },
          "metadata": {
            "tags": []
          }
        }
      ]
    },
    {
      "metadata": {
        "id": "KitYYNUQjLEz",
        "colab_type": "code",
        "colab": {}
      },
      "cell_type": "code",
      "source": [
        "#   # sort the rows of the analysis dataframe by data and time\n",
        "#   sorted_df = indexing_by_datatime(stroke_df)\n",
        "#   sorted_df = sorted_df[['Norm_Jerk_3d_Left',\t'Norm_Jerk_3d_Right','_Date','_Type','_Time']]\n",
        "  \n",
        "      \n",
        "#   sorted_df['Norm_Jerk_3d_Left']  = sorted_df['Norm_Jerk_3d_Left'].convert_objects(convert_numeric=True)\n",
        "#   sorted_df['Norm_Jerk_3d_Right'] = sorted_df['Norm_Jerk_3d_Right'].convert_objects(convert_numeric=True)\n",
        "  \n",
        "#   sorted_df['Norm_Jerk_3d_Left']  = np.log10(sorted_df['Norm_Jerk_3d_Left'])\n",
        "#   sorted_df['Norm_Jerk_3d_Right'] = np.log10(sorted_df['Norm_Jerk_3d_Right'])\n",
        "      \n",
        "#   display(sorted_df)"
      ],
      "execution_count": 0,
      "outputs": []
    },
    {
      "metadata": {
        "id": "gXIE80GaAkKe",
        "colab_type": "text"
      },
      "cell_type": "markdown",
      "source": [
        "## Determine the metric for analysis"
      ]
    },
    {
      "metadata": {
        "id": "_za7_XjLAgGu",
        "colab_type": "code",
        "outputId": "df779b41-74a2-45fd-c407-e3af48c8b75a",
        "colab": {
          "base_uri": "https://localhost:8080/",
          "height": 102
        }
      },
      "cell_type": "code",
      "source": [
        "# metrics for assessing the movement smoothness \n",
        "# 'Mean/Max_Left',\t'Mean/Max_Right', 'Norm_Jerk_3d_Left',\t'Norm_Jerk_3d_Right'\n",
        "\n",
        "metric_option = input('Select a metric from the following options:\\n1--Mean/Max speed ratio\\n2--Normalized jerk\\n')\n",
        "metric_left = ''\n",
        "metric_right = ''\n",
        "metric = ''\n",
        "  \n",
        "if metric_option == '1':\n",
        "  metric_left = 'Mean/Max_Left'\n",
        "  metric_right = 'Mean/Max_Right'\n",
        "  metric = 'Mean/Max speed ratio'\n",
        "elif metric_option == '2':\n",
        "  metric_left = 'Norm_Jerk_3d_Left'\n",
        "  metric_right = 'Norm_Jerk_3d_Right'\n",
        "  metric = 'Normalized jerk'  \n",
        "else:\n",
        "  print(\"Selected invalid metric. Run this cell again to reselect it.\")\n",
        "\n",
        "print('Metric selected: ' + metric)\n",
        "\n",
        "  "
      ],
      "execution_count": 45,
      "outputs": [
        {
          "output_type": "stream",
          "text": [
            "Select a metric from the following options:\n",
            "1--Mean/Max speed ratio\n",
            "2--Normalized jerk\n",
            "2\n",
            "Metric selected: Normalized jerk\n"
          ],
          "name": "stdout"
        }
      ]
    },
    {
      "metadata": {
        "id": "NZiY_w4iBmtq",
        "colab_type": "text"
      },
      "cell_type": "markdown",
      "source": [
        "## Determine the base line from the assessment results of healthy subjects"
      ]
    },
    {
      "metadata": {
        "id": "e28hZd-hZADI",
        "colab_type": "code",
        "outputId": "4e3620cc-4a1e-41a6-d8ca-ad06e60116f3",
        "colab": {
          "base_uri": "https://localhost:8080/",
          "height": 34
        }
      },
      "cell_type": "code",
      "source": [
        "left_baseline, right_baseline = compute_baseline(health_df, metric_left, metric_right)\n",
        "print(\"left baseline = {:f}, right baseline = {:f}.\".format(left_baseline, right_baseline))"
      ],
      "execution_count": 46,
      "outputs": [
        {
          "output_type": "stream",
          "text": [
            "left baseline = 86984922.142197, right baseline = 44159988.140692.\n"
          ],
          "name": "stdout"
        }
      ]
    },
    {
      "metadata": {
        "id": "zH8RopBCBe-n",
        "colab_type": "text"
      },
      "cell_type": "markdown",
      "source": [
        "## Trend for all the trials"
      ]
    },
    {
      "metadata": {
        "id": "sEZhkJuaq5w4",
        "colab_type": "code",
        "colab": {
          "base_uri": "https://localhost:8080/",
          "height": 394
        },
        "outputId": "4d01a222-7565-4fed-a308-10ca33ee0dcd"
      },
      "cell_type": "code",
      "source": [
        "all_df = stroke_df[:]\n",
        "display(all_df[:5])"
      ],
      "execution_count": 69,
      "outputs": [
        {
          "output_type": "display_data",
          "data": {
            "text/html": [
              "<div>\n",
              "<style scoped>\n",
              "    .dataframe tbody tr th:only-of-type {\n",
              "        vertical-align: middle;\n",
              "    }\n",
              "\n",
              "    .dataframe tbody tr th {\n",
              "        vertical-align: top;\n",
              "    }\n",
              "\n",
              "    .dataframe thead th {\n",
              "        text-align: right;\n",
              "    }\n",
              "</style>\n",
              "<table border=\"1\" class=\"dataframe\">\n",
              "  <thead>\n",
              "    <tr style=\"text-align: right;\">\n",
              "      <th></th>\n",
              "      <th>Max_Speed_Left</th>\n",
              "      <th>Max_Speed_Right</th>\n",
              "      <th>Mean/Max_Left</th>\n",
              "      <th>Mean/Max_Right</th>\n",
              "      <th>Mean_Speed_Left</th>\n",
              "      <th>Mean_Speed_Right</th>\n",
              "      <th>Norm_Jerk_3d_Left</th>\n",
              "      <th>Norm_Jerk_3d_Right</th>\n",
              "      <th>Norm_Jerk_x_Left</th>\n",
              "      <th>Norm_Jerk_x_Right</th>\n",
              "      <th>Norm_Jerk_y_Left</th>\n",
              "      <th>Norm_Jerk_y_Right</th>\n",
              "      <th>Norm_Jerk_z_Left</th>\n",
              "      <th>Norm_Jerk_z_Right</th>\n",
              "      <th>_Date</th>\n",
              "      <th>_Player</th>\n",
              "      <th>_PlayerId</th>\n",
              "      <th>_Time</th>\n",
              "      <th>_Type</th>\n",
              "    </tr>\n",
              "  </thead>\n",
              "  <tbody>\n",
              "    <tr>\n",
              "      <th>0</th>\n",
              "      <td>2201.080035</td>\n",
              "      <td>4614.896726</td>\n",
              "      <td>0.130191</td>\n",
              "      <td>0.090128</td>\n",
              "      <td>286.560488</td>\n",
              "      <td>415.932399</td>\n",
              "      <td>22820940.738064</td>\n",
              "      <td>11980959.553106</td>\n",
              "      <td>14228361.836734</td>\n",
              "      <td>6173283.280333</td>\n",
              "      <td>15027089.277125</td>\n",
              "      <td>6148952.924066</td>\n",
              "      <td>9619544.868158</td>\n",
              "      <td>8223402.172553</td>\n",
              "      <td>06-12-2018</td>\n",
              "      <td>KL2HS</td>\n",
              "      <td>008</td>\n",
              "      <td>10-41-AM</td>\n",
              "      <td>Stand Stepping</td>\n",
              "    </tr>\n",
              "    <tr>\n",
              "      <th>1</th>\n",
              "      <td>3320.781275</td>\n",
              "      <td>5122.147055</td>\n",
              "      <td>0.057115</td>\n",
              "      <td>0.02868</td>\n",
              "      <td>189.666181</td>\n",
              "      <td>146.903015</td>\n",
              "      <td>949296274.053083</td>\n",
              "      <td>3622715921.908332</td>\n",
              "      <td>449798134.026533</td>\n",
              "      <td>1119244717.897915</td>\n",
              "      <td>609039967.463679</td>\n",
              "      <td>2108104175.982667</td>\n",
              "      <td>572638954.830314</td>\n",
              "      <td>2725299744.158464</td>\n",
              "      <td>06-14-2018</td>\n",
              "      <td>KL2HS</td>\n",
              "      <td>008</td>\n",
              "      <td>12-06-PM</td>\n",
              "      <td>Standing</td>\n",
              "    </tr>\n",
              "    <tr>\n",
              "      <th>2</th>\n",
              "      <td>3019.138291</td>\n",
              "      <td>4100.106382</td>\n",
              "      <td>0.059423</td>\n",
              "      <td>0.061747</td>\n",
              "      <td>179.405015</td>\n",
              "      <td>253.171018</td>\n",
              "      <td>223529751.428706</td>\n",
              "      <td>109467066.889227</td>\n",
              "      <td>126992289.871804</td>\n",
              "      <td>46745602.457871</td>\n",
              "      <td>131937451.944508</td>\n",
              "      <td>49063713.959274</td>\n",
              "      <td>128183528.041965</td>\n",
              "      <td>85968827.819761</td>\n",
              "      <td>06-14-2018</td>\n",
              "      <td>KL2HS</td>\n",
              "      <td>008</td>\n",
              "      <td>12-14-PM</td>\n",
              "      <td>Standing</td>\n",
              "    </tr>\n",
              "    <tr>\n",
              "      <th>3</th>\n",
              "      <td>4369.244091</td>\n",
              "      <td>4334.584333</td>\n",
              "      <td>0.040906</td>\n",
              "      <td>0.050228</td>\n",
              "      <td>178.727087</td>\n",
              "      <td>217.71705</td>\n",
              "      <td>1132190459.358264</td>\n",
              "      <td>782983866.816216</td>\n",
              "      <td>510651595.412644</td>\n",
              "      <td>389357195.21446</td>\n",
              "      <td>561723512.69486</td>\n",
              "      <td>423567597.763808</td>\n",
              "      <td>839974332.732939</td>\n",
              "      <td>531088693.490834</td>\n",
              "      <td>06-14-2018</td>\n",
              "      <td>KL2HS</td>\n",
              "      <td>008</td>\n",
              "      <td>12-16-PM</td>\n",
              "      <td>Standing</td>\n",
              "    </tr>\n",
              "    <tr>\n",
              "      <th>4</th>\n",
              "      <td>4556.347892</td>\n",
              "      <td>5300.658595</td>\n",
              "      <td>0.049656</td>\n",
              "      <td>0.04515</td>\n",
              "      <td>226.248362</td>\n",
              "      <td>239.324994</td>\n",
              "      <td>6035870473.644961</td>\n",
              "      <td>13860267984.82382</td>\n",
              "      <td>2763787387.004766</td>\n",
              "      <td>5840019893.764922</td>\n",
              "      <td>3030279990.256793</td>\n",
              "      <td>5938432398.009976</td>\n",
              "      <td>4428387385.347132</td>\n",
              "      <td>11078637863.285692</td>\n",
              "      <td>06-14-2018</td>\n",
              "      <td>KL2HS</td>\n",
              "      <td>008</td>\n",
              "      <td>12-18-PM</td>\n",
              "      <td>Standing</td>\n",
              "    </tr>\n",
              "  </tbody>\n",
              "</table>\n",
              "</div>"
            ],
            "text/plain": [
              "  Max_Speed_Left Max_Speed_Right Mean/Max_Left Mean/Max_Right Mean_Speed_Left  \\\n",
              "0    2201.080035     4614.896726      0.130191       0.090128      286.560488   \n",
              "1    3320.781275     5122.147055      0.057115        0.02868      189.666181   \n",
              "2    3019.138291     4100.106382      0.059423       0.061747      179.405015   \n",
              "3    4369.244091     4334.584333      0.040906       0.050228      178.727087   \n",
              "4    4556.347892     5300.658595      0.049656        0.04515      226.248362   \n",
              "\n",
              "  Mean_Speed_Right  Norm_Jerk_3d_Left Norm_Jerk_3d_Right   Norm_Jerk_x_Left  \\\n",
              "0       415.932399    22820940.738064    11980959.553106    14228361.836734   \n",
              "1       146.903015   949296274.053083  3622715921.908332   449798134.026533   \n",
              "2       253.171018   223529751.428706   109467066.889227   126992289.871804   \n",
              "3        217.71705  1132190459.358264   782983866.816216   510651595.412644   \n",
              "4       239.324994  6035870473.644961  13860267984.82382  2763787387.004766   \n",
              "\n",
              "   Norm_Jerk_x_Right   Norm_Jerk_y_Left  Norm_Jerk_y_Right   Norm_Jerk_z_Left  \\\n",
              "0     6173283.280333    15027089.277125     6148952.924066     9619544.868158   \n",
              "1  1119244717.897915   609039967.463679  2108104175.982667   572638954.830314   \n",
              "2    46745602.457871   131937451.944508    49063713.959274   128183528.041965   \n",
              "3    389357195.21446    561723512.69486   423567597.763808   839974332.732939   \n",
              "4  5840019893.764922  3030279990.256793  5938432398.009976  4428387385.347132   \n",
              "\n",
              "    Norm_Jerk_z_Right       _Date _Player _PlayerId     _Time           _Type  \n",
              "0      8223402.172553  06-12-2018   KL2HS       008  10-41-AM  Stand Stepping  \n",
              "1   2725299744.158464  06-14-2018   KL2HS       008  12-06-PM        Standing  \n",
              "2     85968827.819761  06-14-2018   KL2HS       008  12-14-PM        Standing  \n",
              "3    531088693.490834  06-14-2018   KL2HS       008  12-16-PM        Standing  \n",
              "4  11078637863.285692  06-14-2018   KL2HS       008  12-18-PM        Standing  "
            ]
          },
          "metadata": {
            "tags": []
          }
        }
      ]
    },
    {
      "metadata": {
        "id": "wGf6gjUkfB4D",
        "colab_type": "code",
        "outputId": "1170984a-a977-4a34-caa3-b3dadc7188fb",
        "colab": {
          "base_uri": "https://localhost:8080/",
          "height": 840
        }
      },
      "cell_type": "code",
      "source": [
        "title = metric + ' assessment over time for all the trials'\n",
        "display_df = overtime_analysis(all_df, metric_left, metric_right, title, baseline_dataframe=health_df)\n",
        "\n",
        "# display_df = overtime_analysis(stroke_df, metric_left, metric_right)\n",
        "\n",
        "# display(display_df)"
      ],
      "execution_count": 70,
      "outputs": [
        {
          "output_type": "stream",
          "text": [
            "left baseline = 7.939444, right baseline = 7.645029.\n"
          ],
          "name": "stdout"
        },
        {
          "output_type": "display_data",
          "data": {
            "image/png": "[encoded data removed]",
            "text/plain": [
              "<Figure size 1250x850 with 1 Axes>"
            ]
          },
          "metadata": {
            "tags": []
          }
        }
      ]
    },
    {
      "metadata": {
        "id": "BK2bzhp7qd3H",
        "colab_type": "code",
        "colab": {
          "base_uri": "https://localhost:8080/",
          "height": 394
        },
        "outputId": "2625ebbf-2ca4-424a-a8b9-16add549fe5f"
      },
      "cell_type": "code",
      "source": [
        "display(all_df[:5])"
      ],
      "execution_count": 72,
      "outputs": [
        {
          "output_type": "display_data",
          "data": {
            "text/html": [
              "<div>\n",
              "<style scoped>\n",
              "    .dataframe tbody tr th:only-of-type {\n",
              "        vertical-align: middle;\n",
              "    }\n",
              "\n",
              "    .dataframe tbody tr th {\n",
              "        vertical-align: top;\n",
              "    }\n",
              "\n",
              "    .dataframe thead th {\n",
              "        text-align: right;\n",
              "    }\n",
              "</style>\n",
              "<table border=\"1\" class=\"dataframe\">\n",
              "  <thead>\n",
              "    <tr style=\"text-align: right;\">\n",
              "      <th></th>\n",
              "      <th>Max_Speed_Left</th>\n",
              "      <th>Max_Speed_Right</th>\n",
              "      <th>Mean/Max_Left</th>\n",
              "      <th>Mean/Max_Right</th>\n",
              "      <th>Mean_Speed_Left</th>\n",
              "      <th>Mean_Speed_Right</th>\n",
              "      <th>Norm_Jerk_3d_Left</th>\n",
              "      <th>Norm_Jerk_3d_Right</th>\n",
              "      <th>Norm_Jerk_x_Left</th>\n",
              "      <th>Norm_Jerk_x_Right</th>\n",
              "      <th>Norm_Jerk_y_Left</th>\n",
              "      <th>Norm_Jerk_y_Right</th>\n",
              "      <th>Norm_Jerk_z_Left</th>\n",
              "      <th>Norm_Jerk_z_Right</th>\n",
              "      <th>_Date</th>\n",
              "      <th>_Player</th>\n",
              "      <th>_PlayerId</th>\n",
              "      <th>_Time</th>\n",
              "      <th>_Type</th>\n",
              "    </tr>\n",
              "  </thead>\n",
              "  <tbody>\n",
              "    <tr>\n",
              "      <th>0</th>\n",
              "      <td>2201.080035</td>\n",
              "      <td>4614.896726</td>\n",
              "      <td>0.130191</td>\n",
              "      <td>0.090128</td>\n",
              "      <td>286.560488</td>\n",
              "      <td>415.932399</td>\n",
              "      <td>7.358334</td>\n",
              "      <td>7.078492</td>\n",
              "      <td>14228361.836734</td>\n",
              "      <td>6173283.280333</td>\n",
              "      <td>15027089.277125</td>\n",
              "      <td>6148952.924066</td>\n",
              "      <td>9619544.868158</td>\n",
              "      <td>8223402.172553</td>\n",
              "      <td>06-12-2018</td>\n",
              "      <td>KL2HS</td>\n",
              "      <td>008</td>\n",
              "      <td>10-41-AM</td>\n",
              "      <td>Stand Stepping</td>\n",
              "    </tr>\n",
              "    <tr>\n",
              "      <th>1</th>\n",
              "      <td>3320.781275</td>\n",
              "      <td>5122.147055</td>\n",
              "      <td>0.057115</td>\n",
              "      <td>0.02868</td>\n",
              "      <td>189.666181</td>\n",
              "      <td>146.903015</td>\n",
              "      <td>8.977402</td>\n",
              "      <td>9.559034</td>\n",
              "      <td>449798134.026533</td>\n",
              "      <td>1119244717.897915</td>\n",
              "      <td>609039967.463679</td>\n",
              "      <td>2108104175.982667</td>\n",
              "      <td>572638954.830314</td>\n",
              "      <td>2725299744.158464</td>\n",
              "      <td>06-14-2018</td>\n",
              "      <td>KL2HS</td>\n",
              "      <td>008</td>\n",
              "      <td>12-06-PM</td>\n",
              "      <td>Standing</td>\n",
              "    </tr>\n",
              "    <tr>\n",
              "      <th>2</th>\n",
              "      <td>3019.138291</td>\n",
              "      <td>4100.106382</td>\n",
              "      <td>0.059423</td>\n",
              "      <td>0.061747</td>\n",
              "      <td>179.405015</td>\n",
              "      <td>253.171018</td>\n",
              "      <td>8.349335</td>\n",
              "      <td>8.039283</td>\n",
              "      <td>126992289.871804</td>\n",
              "      <td>46745602.457871</td>\n",
              "      <td>131937451.944508</td>\n",
              "      <td>49063713.959274</td>\n",
              "      <td>128183528.041965</td>\n",
              "      <td>85968827.819761</td>\n",
              "      <td>06-14-2018</td>\n",
              "      <td>KL2HS</td>\n",
              "      <td>008</td>\n",
              "      <td>12-14-PM</td>\n",
              "      <td>Standing</td>\n",
              "    </tr>\n",
              "    <tr>\n",
              "      <th>3</th>\n",
              "      <td>4369.244091</td>\n",
              "      <td>4334.584333</td>\n",
              "      <td>0.040906</td>\n",
              "      <td>0.050228</td>\n",
              "      <td>178.727087</td>\n",
              "      <td>217.71705</td>\n",
              "      <td>9.053919</td>\n",
              "      <td>8.893753</td>\n",
              "      <td>510651595.412644</td>\n",
              "      <td>389357195.21446</td>\n",
              "      <td>561723512.69486</td>\n",
              "      <td>423567597.763808</td>\n",
              "      <td>839974332.732939</td>\n",
              "      <td>531088693.490834</td>\n",
              "      <td>06-14-2018</td>\n",
              "      <td>KL2HS</td>\n",
              "      <td>008</td>\n",
              "      <td>12-16-PM</td>\n",
              "      <td>Standing</td>\n",
              "    </tr>\n",
              "    <tr>\n",
              "      <th>4</th>\n",
              "      <td>4556.347892</td>\n",
              "      <td>5300.658595</td>\n",
              "      <td>0.049656</td>\n",
              "      <td>0.04515</td>\n",
              "      <td>226.248362</td>\n",
              "      <td>239.324994</td>\n",
              "      <td>9.780740</td>\n",
              "      <td>10.141772</td>\n",
              "      <td>2763787387.004766</td>\n",
              "      <td>5840019893.764922</td>\n",
              "      <td>3030279990.256793</td>\n",
              "      <td>5938432398.009976</td>\n",
              "      <td>4428387385.347132</td>\n",
              "      <td>11078637863.285692</td>\n",
              "      <td>06-14-2018</td>\n",
              "      <td>KL2HS</td>\n",
              "      <td>008</td>\n",
              "      <td>12-18-PM</td>\n",
              "      <td>Standing</td>\n",
              "    </tr>\n",
              "  </tbody>\n",
              "</table>\n",
              "</div>"
            ],
            "text/plain": [
              "  Max_Speed_Left Max_Speed_Right Mean/Max_Left Mean/Max_Right Mean_Speed_Left  \\\n",
              "0    2201.080035     4614.896726      0.130191       0.090128      286.560488   \n",
              "1    3320.781275     5122.147055      0.057115        0.02868      189.666181   \n",
              "2    3019.138291     4100.106382      0.059423       0.061747      179.405015   \n",
              "3    4369.244091     4334.584333      0.040906       0.050228      178.727087   \n",
              "4    4556.347892     5300.658595      0.049656        0.04515      226.248362   \n",
              "\n",
              "  Mean_Speed_Right  Norm_Jerk_3d_Left  Norm_Jerk_3d_Right   Norm_Jerk_x_Left  \\\n",
              "0       415.932399           7.358334            7.078492    14228361.836734   \n",
              "1       146.903015           8.977402            9.559034   449798134.026533   \n",
              "2       253.171018           8.349335            8.039283   126992289.871804   \n",
              "3        217.71705           9.053919            8.893753   510651595.412644   \n",
              "4       239.324994           9.780740           10.141772  2763787387.004766   \n",
              "\n",
              "   Norm_Jerk_x_Right   Norm_Jerk_y_Left  Norm_Jerk_y_Right   Norm_Jerk_z_Left  \\\n",
              "0     6173283.280333    15027089.277125     6148952.924066     9619544.868158   \n",
              "1  1119244717.897915   609039967.463679  2108104175.982667   572638954.830314   \n",
              "2    46745602.457871   131937451.944508    49063713.959274   128183528.041965   \n",
              "3    389357195.21446    561723512.69486   423567597.763808   839974332.732939   \n",
              "4  5840019893.764922  3030279990.256793  5938432398.009976  4428387385.347132   \n",
              "\n",
              "    Norm_Jerk_z_Right       _Date _Player _PlayerId     _Time           _Type  \n",
              "0      8223402.172553  06-12-2018   KL2HS       008  10-41-AM  Stand Stepping  \n",
              "1   2725299744.158464  06-14-2018   KL2HS       008  12-06-PM        Standing  \n",
              "2     85968827.819761  06-14-2018   KL2HS       008  12-14-PM        Standing  \n",
              "3    531088693.490834  06-14-2018   KL2HS       008  12-16-PM        Standing  \n",
              "4  11078637863.285692  06-14-2018   KL2HS       008  12-18-PM        Standing  "
            ]
          },
          "metadata": {
            "tags": []
          }
        }
      ]
    },
    {
      "metadata": {
        "id": "0QGSVqZaKt4m",
        "colab_type": "text"
      },
      "cell_type": "markdown",
      "source": [
        "## Trend for a day"
      ]
    },
    {
      "metadata": {
        "id": "MrVPb4phK1lj",
        "colab_type": "code",
        "outputId": "de83e8d7-e6ab-40d9-9c8c-e20f937934b8",
        "colab": {
          "base_uri": "https://localhost:8080/",
          "height": 51
        }
      },
      "cell_type": "code",
      "source": [
        "# list all the game types\n",
        "print(stroke_df._Date.unique())"
      ],
      "execution_count": 73,
      "outputs": [
        {
          "output_type": "stream",
          "text": [
            "['06-12-2018' '06-14-2018' '06-17-2018' '06-27-2018' '06-03-2018'\n",
            " '06-04-2018' '06-06-2018' '07-10-2018']\n"
          ],
          "name": "stdout"
        }
      ]
    },
    {
      "metadata": {
        "id": "J7DCNd2iLA3_",
        "colab_type": "code",
        "outputId": "7814236c-29a9-4bc9-e9e2-3f3742bd948b",
        "colab": {
          "base_uri": "https://localhost:8080/",
          "height": 328
        }
      },
      "cell_type": "code",
      "source": [
        "selected_date = '06-04-2018'\n",
        "one_day_df = stroke_df.loc[stroke_df['_Date'] == selected_date]\n",
        "one_day_df = one_day_df[[metric_left, metric_right,'_Date','_Type','_Time']]\n",
        "display(one_day_df)"
      ],
      "execution_count": 74,
      "outputs": [
        {
          "output_type": "display_data",
          "data": {
            "text/html": [
              "<div>\n",
              "<style scoped>\n",
              "    .dataframe tbody tr th:only-of-type {\n",
              "        vertical-align: middle;\n",
              "    }\n",
              "\n",
              "    .dataframe tbody tr th {\n",
              "        vertical-align: top;\n",
              "    }\n",
              "\n",
              "    .dataframe thead th {\n",
              "        text-align: right;\n",
              "    }\n",
              "</style>\n",
              "<table border=\"1\" class=\"dataframe\">\n",
              "  <thead>\n",
              "    <tr style=\"text-align: right;\">\n",
              "      <th></th>\n",
              "      <th>Norm_Jerk_3d_Left</th>\n",
              "      <th>Norm_Jerk_3d_Right</th>\n",
              "      <th>_Date</th>\n",
              "      <th>_Type</th>\n",
              "      <th>_Time</th>\n",
              "    </tr>\n",
              "  </thead>\n",
              "  <tbody>\n",
              "    <tr>\n",
              "      <th>28</th>\n",
              "      <td>2360134623.950962</td>\n",
              "      <td>1961307763.96996</td>\n",
              "      <td>06-04-2018</td>\n",
              "      <td>Standing</td>\n",
              "      <td>06-08-PM</td>\n",
              "    </tr>\n",
              "    <tr>\n",
              "      <th>29</th>\n",
              "      <td>1193532832.917762</td>\n",
              "      <td>1452703117.098305</td>\n",
              "      <td>06-04-2018</td>\n",
              "      <td>Standing</td>\n",
              "      <td>06-12-PM</td>\n",
              "    </tr>\n",
              "    <tr>\n",
              "      <th>30</th>\n",
              "      <td>56475562.663133</td>\n",
              "      <td>844734210.063523</td>\n",
              "      <td>06-04-2018</td>\n",
              "      <td>Standing</td>\n",
              "      <td>06-16-PM</td>\n",
              "    </tr>\n",
              "    <tr>\n",
              "      <th>31</th>\n",
              "      <td>1271608830.735286</td>\n",
              "      <td>7204624036.028655</td>\n",
              "      <td>06-04-2018</td>\n",
              "      <td>Sit to Stand</td>\n",
              "      <td>06-19-PM</td>\n",
              "    </tr>\n",
              "    <tr>\n",
              "      <th>32</th>\n",
              "      <td>8268781807.330085</td>\n",
              "      <td>9165441446.615768</td>\n",
              "      <td>06-04-2018</td>\n",
              "      <td>Sit to Stand</td>\n",
              "      <td>06-22-PM</td>\n",
              "    </tr>\n",
              "    <tr>\n",
              "      <th>33</th>\n",
              "      <td>516850443227.7668</td>\n",
              "      <td>96838965762.31068</td>\n",
              "      <td>06-04-2018</td>\n",
              "      <td>Stand Stepping</td>\n",
              "      <td>06-26-PM</td>\n",
              "    </tr>\n",
              "    <tr>\n",
              "      <th>34</th>\n",
              "      <td>174851388.337816</td>\n",
              "      <td>113284193.823427</td>\n",
              "      <td>06-04-2018</td>\n",
              "      <td>Stand Stepping</td>\n",
              "      <td>06-35-PM</td>\n",
              "    </tr>\n",
              "    <tr>\n",
              "      <th>35</th>\n",
              "      <td>7434371039.717742</td>\n",
              "      <td>1998753083.588655</td>\n",
              "      <td>06-04-2018</td>\n",
              "      <td>Stand Weights</td>\n",
              "      <td>06-37-PM</td>\n",
              "    </tr>\n",
              "    <tr>\n",
              "      <th>36</th>\n",
              "      <td>6966885312.590929</td>\n",
              "      <td>5027926440.140264</td>\n",
              "      <td>06-04-2018</td>\n",
              "      <td>Stand Weights</td>\n",
              "      <td>06-42-PM</td>\n",
              "    </tr>\n",
              "  </tbody>\n",
              "</table>\n",
              "</div>"
            ],
            "text/plain": [
              "    Norm_Jerk_3d_Left Norm_Jerk_3d_Right       _Date           _Type     _Time\n",
              "28  2360134623.950962   1961307763.96996  06-04-2018        Standing  06-08-PM\n",
              "29  1193532832.917762  1452703117.098305  06-04-2018        Standing  06-12-PM\n",
              "30    56475562.663133   844734210.063523  06-04-2018        Standing  06-16-PM\n",
              "31  1271608830.735286  7204624036.028655  06-04-2018    Sit to Stand  06-19-PM\n",
              "32  8268781807.330085  9165441446.615768  06-04-2018    Sit to Stand  06-22-PM\n",
              "33  516850443227.7668  96838965762.31068  06-04-2018  Stand Stepping  06-26-PM\n",
              "34   174851388.337816   113284193.823427  06-04-2018  Stand Stepping  06-35-PM\n",
              "35  7434371039.717742  1998753083.588655  06-04-2018   Stand Weights  06-37-PM\n",
              "36  6966885312.590929  5027926440.140264  06-04-2018   Stand Weights  06-42-PM"
            ]
          },
          "metadata": {
            "tags": []
          }
        }
      ]
    },
    {
      "metadata": {
        "id": "6ewjGAhkL6-o",
        "colab_type": "code",
        "outputId": "dd30f8b7-0058-4c8b-e27c-1e6c78b24d78",
        "colab": {
          "base_uri": "https://localhost:8080/",
          "height": 840
        }
      },
      "cell_type": "code",
      "source": [
        "one_day_title = metric + ' assessment on ' + selected_date\n",
        "one_day_display_df = overtime_analysis(one_day_df, metric_left,metric_right, one_day_title, baseline_dataframe=health_df)"
      ],
      "execution_count": 75,
      "outputs": [
        {
          "output_type": "stream",
          "text": [
            "left baseline = 7.939444, right baseline = 7.645029.\n"
          ],
          "name": "stdout"
        },
        {
          "output_type": "display_data",
          "data": {
            "image/png": "[encoded data removed]",
            "text/plain": [
              "<Figure size 1250x850 with 1 Axes>"
            ]
          },
          "metadata": {
            "tags": []
          }
        }
      ]
    },
    {
      "metadata": {
        "id": "9DjnyFToMmey",
        "colab_type": "text"
      },
      "cell_type": "markdown",
      "source": [
        "## Trend within a time period"
      ]
    },
    {
      "metadata": {
        "id": "uQLuPKkVMwUr",
        "colab_type": "code",
        "colab": {}
      },
      "cell_type": "code",
      "source": [
        "start_date = '06-03-2018'\n",
        "end_date = '06-06-2018'"
      ],
      "execution_count": 0,
      "outputs": []
    },
    {
      "metadata": {
        "id": "gSfJbJqsNd8c",
        "colab_type": "code",
        "outputId": "05fa48ad-0bb4-4bdd-871e-84b3d1270c98",
        "colab": {
          "base_uri": "https://localhost:8080/",
          "height": 793
        }
      },
      "cell_type": "code",
      "source": [
        "period_df = stroke_df.loc[(stroke_df['_Date'] >= start_date) & (stroke_df['_Date'] <= end_date)]\n",
        "period_df = period_df[[metric_left, metric_right,'_Date','_Type','_Time']]\n",
        "display(period_df)"
      ],
      "execution_count": 77,
      "outputs": [
        {
          "output_type": "display_data",
          "data": {
            "text/html": [
              "<div>\n",
              "<style scoped>\n",
              "    .dataframe tbody tr th:only-of-type {\n",
              "        vertical-align: middle;\n",
              "    }\n",
              "\n",
              "    .dataframe tbody tr th {\n",
              "        vertical-align: top;\n",
              "    }\n",
              "\n",
              "    .dataframe thead th {\n",
              "        text-align: right;\n",
              "    }\n",
              "</style>\n",
              "<table border=\"1\" class=\"dataframe\">\n",
              "  <thead>\n",
              "    <tr style=\"text-align: right;\">\n",
              "      <th></th>\n",
              "      <th>Norm_Jerk_3d_Left</th>\n",
              "      <th>Norm_Jerk_3d_Right</th>\n",
              "      <th>_Date</th>\n",
              "      <th>_Type</th>\n",
              "      <th>_Time</th>\n",
              "    </tr>\n",
              "  </thead>\n",
              "  <tbody>\n",
              "    <tr>\n",
              "      <th>24</th>\n",
              "      <td>194411285.769271</td>\n",
              "      <td>771722884.507653</td>\n",
              "      <td>06-03-2018</td>\n",
              "      <td>Stand Stepping</td>\n",
              "      <td>03-50-PM</td>\n",
              "    </tr>\n",
              "    <tr>\n",
              "      <th>25</th>\n",
              "      <td>46653102.319763</td>\n",
              "      <td>52482492.583282</td>\n",
              "      <td>06-03-2018</td>\n",
              "      <td>Stand Weights</td>\n",
              "      <td>03-52-PM</td>\n",
              "    </tr>\n",
              "    <tr>\n",
              "      <th>26</th>\n",
              "      <td>22049457.718612</td>\n",
              "      <td>7437150.324993</td>\n",
              "      <td>06-03-2018</td>\n",
              "      <td>Standing</td>\n",
              "      <td>03-59-PM</td>\n",
              "    </tr>\n",
              "    <tr>\n",
              "      <th>27</th>\n",
              "      <td>274822865.733798</td>\n",
              "      <td>359154721.145999</td>\n",
              "      <td>06-03-2018</td>\n",
              "      <td>Sit to Stand</td>\n",
              "      <td>04-01-PM</td>\n",
              "    </tr>\n",
              "    <tr>\n",
              "      <th>28</th>\n",
              "      <td>2360134623.950962</td>\n",
              "      <td>1961307763.96996</td>\n",
              "      <td>06-04-2018</td>\n",
              "      <td>Standing</td>\n",
              "      <td>06-08-PM</td>\n",
              "    </tr>\n",
              "    <tr>\n",
              "      <th>29</th>\n",
              "      <td>1193532832.917762</td>\n",
              "      <td>1452703117.098305</td>\n",
              "      <td>06-04-2018</td>\n",
              "      <td>Standing</td>\n",
              "      <td>06-12-PM</td>\n",
              "    </tr>\n",
              "    <tr>\n",
              "      <th>30</th>\n",
              "      <td>56475562.663133</td>\n",
              "      <td>844734210.063523</td>\n",
              "      <td>06-04-2018</td>\n",
              "      <td>Standing</td>\n",
              "      <td>06-16-PM</td>\n",
              "    </tr>\n",
              "    <tr>\n",
              "      <th>31</th>\n",
              "      <td>1271608830.735286</td>\n",
              "      <td>7204624036.028655</td>\n",
              "      <td>06-04-2018</td>\n",
              "      <td>Sit to Stand</td>\n",
              "      <td>06-19-PM</td>\n",
              "    </tr>\n",
              "    <tr>\n",
              "      <th>32</th>\n",
              "      <td>8268781807.330085</td>\n",
              "      <td>9165441446.615768</td>\n",
              "      <td>06-04-2018</td>\n",
              "      <td>Sit to Stand</td>\n",
              "      <td>06-22-PM</td>\n",
              "    </tr>\n",
              "    <tr>\n",
              "      <th>33</th>\n",
              "      <td>516850443227.7668</td>\n",
              "      <td>96838965762.31068</td>\n",
              "      <td>06-04-2018</td>\n",
              "      <td>Stand Stepping</td>\n",
              "      <td>06-26-PM</td>\n",
              "    </tr>\n",
              "    <tr>\n",
              "      <th>34</th>\n",
              "      <td>174851388.337816</td>\n",
              "      <td>113284193.823427</td>\n",
              "      <td>06-04-2018</td>\n",
              "      <td>Stand Stepping</td>\n",
              "      <td>06-35-PM</td>\n",
              "    </tr>\n",
              "    <tr>\n",
              "      <th>35</th>\n",
              "      <td>7434371039.717742</td>\n",
              "      <td>1998753083.588655</td>\n",
              "      <td>06-04-2018</td>\n",
              "      <td>Stand Weights</td>\n",
              "      <td>06-37-PM</td>\n",
              "    </tr>\n",
              "    <tr>\n",
              "      <th>36</th>\n",
              "      <td>6966885312.590929</td>\n",
              "      <td>5027926440.140264</td>\n",
              "      <td>06-04-2018</td>\n",
              "      <td>Stand Weights</td>\n",
              "      <td>06-42-PM</td>\n",
              "    </tr>\n",
              "    <tr>\n",
              "      <th>37</th>\n",
              "      <td>592331787.139</td>\n",
              "      <td>589585195.969827</td>\n",
              "      <td>06-06-2018</td>\n",
              "      <td>Standing</td>\n",
              "      <td>01-56-PM</td>\n",
              "    </tr>\n",
              "    <tr>\n",
              "      <th>38</th>\n",
              "      <td>1375571489.084466</td>\n",
              "      <td>263149891.226985</td>\n",
              "      <td>06-06-2018</td>\n",
              "      <td>Standing</td>\n",
              "      <td>01-59-PM</td>\n",
              "    </tr>\n",
              "    <tr>\n",
              "      <th>39</th>\n",
              "      <td>1004676545.896967</td>\n",
              "      <td>2051164250.630704</td>\n",
              "      <td>06-06-2018</td>\n",
              "      <td>Standing</td>\n",
              "      <td>02-02-PM</td>\n",
              "    </tr>\n",
              "    <tr>\n",
              "      <th>40</th>\n",
              "      <td>5621875568.224769</td>\n",
              "      <td>1191984489.270154</td>\n",
              "      <td>06-06-2018</td>\n",
              "      <td>Standing</td>\n",
              "      <td>02-04-PM</td>\n",
              "    </tr>\n",
              "    <tr>\n",
              "      <th>41</th>\n",
              "      <td>399858938.438461</td>\n",
              "      <td>2280355059.505064</td>\n",
              "      <td>06-06-2018</td>\n",
              "      <td>Standing</td>\n",
              "      <td>02-07-PM</td>\n",
              "    </tr>\n",
              "    <tr>\n",
              "      <th>42</th>\n",
              "      <td>25941028606.35225</td>\n",
              "      <td>27623476919.465557</td>\n",
              "      <td>06-06-2018</td>\n",
              "      <td>Stand Stepping</td>\n",
              "      <td>02-11-PM</td>\n",
              "    </tr>\n",
              "    <tr>\n",
              "      <th>43</th>\n",
              "      <td>273296476.265714</td>\n",
              "      <td>139006405.576115</td>\n",
              "      <td>06-06-2018</td>\n",
              "      <td>Stand Stepping</td>\n",
              "      <td>02-18-PM</td>\n",
              "    </tr>\n",
              "    <tr>\n",
              "      <th>44</th>\n",
              "      <td>18171401941.70765</td>\n",
              "      <td>1611481826.80402</td>\n",
              "      <td>06-06-2018</td>\n",
              "      <td>Stand Weights</td>\n",
              "      <td>02-21-PM</td>\n",
              "    </tr>\n",
              "    <tr>\n",
              "      <th>45</th>\n",
              "      <td>2582062771.12763</td>\n",
              "      <td>5923490456.651018</td>\n",
              "      <td>06-06-2018</td>\n",
              "      <td>Stand Weights</td>\n",
              "      <td>02-25-PM</td>\n",
              "    </tr>\n",
              "    <tr>\n",
              "      <th>46</th>\n",
              "      <td>5717294849.158606</td>\n",
              "      <td>14847386389.07744</td>\n",
              "      <td>06-06-2018</td>\n",
              "      <td>Sit to Stand</td>\n",
              "      <td>02-30-PM</td>\n",
              "    </tr>\n",
              "    <tr>\n",
              "      <th>47</th>\n",
              "      <td>4518279475.809154</td>\n",
              "      <td>3284303323.128111</td>\n",
              "      <td>06-06-2018</td>\n",
              "      <td>Sit to Stand</td>\n",
              "      <td>02-34-PM</td>\n",
              "    </tr>\n",
              "  </tbody>\n",
              "</table>\n",
              "</div>"
            ],
            "text/plain": [
              "    Norm_Jerk_3d_Left  Norm_Jerk_3d_Right       _Date           _Type  \\\n",
              "24   194411285.769271    771722884.507653  06-03-2018  Stand Stepping   \n",
              "25    46653102.319763     52482492.583282  06-03-2018   Stand Weights   \n",
              "26    22049457.718612      7437150.324993  06-03-2018        Standing   \n",
              "27   274822865.733798    359154721.145999  06-03-2018    Sit to Stand   \n",
              "28  2360134623.950962    1961307763.96996  06-04-2018        Standing   \n",
              "29  1193532832.917762   1452703117.098305  06-04-2018        Standing   \n",
              "30    56475562.663133    844734210.063523  06-04-2018        Standing   \n",
              "31  1271608830.735286   7204624036.028655  06-04-2018    Sit to Stand   \n",
              "32  8268781807.330085   9165441446.615768  06-04-2018    Sit to Stand   \n",
              "33  516850443227.7668   96838965762.31068  06-04-2018  Stand Stepping   \n",
              "34   174851388.337816    113284193.823427  06-04-2018  Stand Stepping   \n",
              "35  7434371039.717742   1998753083.588655  06-04-2018   Stand Weights   \n",
              "36  6966885312.590929   5027926440.140264  06-04-2018   Stand Weights   \n",
              "37      592331787.139    589585195.969827  06-06-2018        Standing   \n",
              "38  1375571489.084466    263149891.226985  06-06-2018        Standing   \n",
              "39  1004676545.896967   2051164250.630704  06-06-2018        Standing   \n",
              "40  5621875568.224769   1191984489.270154  06-06-2018        Standing   \n",
              "41   399858938.438461   2280355059.505064  06-06-2018        Standing   \n",
              "42  25941028606.35225  27623476919.465557  06-06-2018  Stand Stepping   \n",
              "43   273296476.265714    139006405.576115  06-06-2018  Stand Stepping   \n",
              "44  18171401941.70765    1611481826.80402  06-06-2018   Stand Weights   \n",
              "45   2582062771.12763   5923490456.651018  06-06-2018   Stand Weights   \n",
              "46  5717294849.158606   14847386389.07744  06-06-2018    Sit to Stand   \n",
              "47  4518279475.809154   3284303323.128111  06-06-2018    Sit to Stand   \n",
              "\n",
              "       _Time  \n",
              "24  03-50-PM  \n",
              "25  03-52-PM  \n",
              "26  03-59-PM  \n",
              "27  04-01-PM  \n",
              "28  06-08-PM  \n",
              "29  06-12-PM  \n",
              "30  06-16-PM  \n",
              "31  06-19-PM  \n",
              "32  06-22-PM  \n",
              "33  06-26-PM  \n",
              "34  06-35-PM  \n",
              "35  06-37-PM  \n",
              "36  06-42-PM  \n",
              "37  01-56-PM  \n",
              "38  01-59-PM  \n",
              "39  02-02-PM  \n",
              "40  02-04-PM  \n",
              "41  02-07-PM  \n",
              "42  02-11-PM  \n",
              "43  02-18-PM  \n",
              "44  02-21-PM  \n",
              "45  02-25-PM  \n",
              "46  02-30-PM  \n",
              "47  02-34-PM  "
            ]
          },
          "metadata": {
            "tags": []
          }
        }
      ]
    },
    {
      "metadata": {
        "id": "jAO-RSt1ONaw",
        "colab_type": "code",
        "outputId": "2a8134a2-53f3-43bb-936c-0417514aee4e",
        "colab": {
          "base_uri": "https://localhost:8080/",
          "height": 840
        }
      },
      "cell_type": "code",
      "source": [
        "period_title = metric + ' assessment between ' + start_date + ' and ' + end_date\n",
        "period_display_df = overtime_analysis(period_df, metric_left, metric_right, period_title, baseline_dataframe=health_df)"
      ],
      "execution_count": 78,
      "outputs": [
        {
          "output_type": "stream",
          "text": [
            "left baseline = 7.939444, right baseline = 7.645029.\n"
          ],
          "name": "stdout"
        },
        {
          "output_type": "display_data",
          "data": {
            "image/png": "[encoded data removed]",
            "text/plain": [
              "<Figure size 1250x850 with 1 Axes>"
            ]
          },
          "metadata": {
            "tags": []
          }
        }
      ]
    },
    {
      "metadata": {
        "id": "IAQVd7EA6SIP",
        "colab_type": "text"
      },
      "cell_type": "markdown",
      "source": [
        "## Trend by game type"
      ]
    },
    {
      "metadata": {
        "id": "ksNahzn-6K3s",
        "colab_type": "code",
        "outputId": "486e629a-270d-4f6a-bb85-62ae11898397",
        "colab": {
          "base_uri": "https://localhost:8080/",
          "height": 34
        }
      },
      "cell_type": "code",
      "source": [
        "# list all the game types\n",
        "print(stroke_df._Type.unique())"
      ],
      "execution_count": 79,
      "outputs": [
        {
          "output_type": "stream",
          "text": [
            "['Stand Stepping' 'Standing' 'Sit to Stand' 'Stand Weights']\n"
          ],
          "name": "stdout"
        }
      ]
    },
    {
      "metadata": {
        "id": "L1eAoknIjtGU",
        "colab_type": "code",
        "outputId": "5bb0f2c8-eb50-44ab-94ea-d6172d112b05",
        "colab": {
          "base_uri": "https://localhost:8080/",
          "height": 204
        }
      },
      "cell_type": "code",
      "source": [
        "selected_type = 'Stand Weights'\n",
        "one_game_df = stroke_df.loc[stroke_df['_Type'] == selected_type]\n",
        "one_game_df = one_game_df[[metric_left,metric_right,'_Date','_Type','_Time']]\n",
        "display(one_game_df[:5])"
      ],
      "execution_count": 80,
      "outputs": [
        {
          "output_type": "display_data",
          "data": {
            "text/html": [
              "<div>\n",
              "<style scoped>\n",
              "    .dataframe tbody tr th:only-of-type {\n",
              "        vertical-align: middle;\n",
              "    }\n",
              "\n",
              "    .dataframe tbody tr th {\n",
              "        vertical-align: top;\n",
              "    }\n",
              "\n",
              "    .dataframe thead th {\n",
              "        text-align: right;\n",
              "    }\n",
              "</style>\n",
              "<table border=\"1\" class=\"dataframe\">\n",
              "  <thead>\n",
              "    <tr style=\"text-align: right;\">\n",
              "      <th></th>\n",
              "      <th>Norm_Jerk_3d_Left</th>\n",
              "      <th>Norm_Jerk_3d_Right</th>\n",
              "      <th>_Date</th>\n",
              "      <th>_Type</th>\n",
              "      <th>_Time</th>\n",
              "    </tr>\n",
              "  </thead>\n",
              "  <tbody>\n",
              "    <tr>\n",
              "      <th>9</th>\n",
              "      <td>382235572.747115</td>\n",
              "      <td>319471605.341347</td>\n",
              "      <td>06-14-2018</td>\n",
              "      <td>Stand Weights</td>\n",
              "      <td>12-40-PM</td>\n",
              "    </tr>\n",
              "    <tr>\n",
              "      <th>10</th>\n",
              "      <td>2320300793.0244</td>\n",
              "      <td>5038005829.290753</td>\n",
              "      <td>06-14-2018</td>\n",
              "      <td>Stand Weights</td>\n",
              "      <td>12-43-PM</td>\n",
              "    </tr>\n",
              "    <tr>\n",
              "      <th>17</th>\n",
              "      <td>1290627668.704804</td>\n",
              "      <td>333785978.651829</td>\n",
              "      <td>06-17-2018</td>\n",
              "      <td>Stand Weights</td>\n",
              "      <td>05-26-PM</td>\n",
              "    </tr>\n",
              "    <tr>\n",
              "      <th>18</th>\n",
              "      <td>1745967840.376149</td>\n",
              "      <td>698811959.642482</td>\n",
              "      <td>06-17-2018</td>\n",
              "      <td>Stand Weights</td>\n",
              "      <td>05-29-PM</td>\n",
              "    </tr>\n",
              "    <tr>\n",
              "      <th>23</th>\n",
              "      <td>4423661586.929047</td>\n",
              "      <td>5507706348.055005</td>\n",
              "      <td>06-27-2018</td>\n",
              "      <td>Stand Weights</td>\n",
              "      <td>02-47-PM</td>\n",
              "    </tr>\n",
              "  </tbody>\n",
              "</table>\n",
              "</div>"
            ],
            "text/plain": [
              "    Norm_Jerk_3d_Left Norm_Jerk_3d_Right       _Date          _Type     _Time\n",
              "9    382235572.747115   319471605.341347  06-14-2018  Stand Weights  12-40-PM\n",
              "10    2320300793.0244  5038005829.290753  06-14-2018  Stand Weights  12-43-PM\n",
              "17  1290627668.704804   333785978.651829  06-17-2018  Stand Weights  05-26-PM\n",
              "18  1745967840.376149   698811959.642482  06-17-2018  Stand Weights  05-29-PM\n",
              "23  4423661586.929047  5507706348.055005  06-27-2018  Stand Weights  02-47-PM"
            ]
          },
          "metadata": {
            "tags": []
          }
        }
      ]
    },
    {
      "metadata": {
        "id": "UzLAk4oWHA81",
        "colab_type": "code",
        "outputId": "1ba4e4d7-1aca-4b62-93b0-8672f10b5fff",
        "colab": {
          "base_uri": "https://localhost:8080/",
          "height": 840
        }
      },
      "cell_type": "code",
      "source": [
        "one_game_title = metric + ' assessment over time for ' + selected_type + ' game'\n",
        "one_game_display_df = overtime_analysis(one_game_df, metric_left, metric_right, one_game_title , baseline_dataframe=health_df)"
      ],
      "execution_count": 81,
      "outputs": [
        {
          "output_type": "stream",
          "text": [
            "left baseline = 7.939444, right baseline = 7.645029.\n"
          ],
          "name": "stdout"
        },
        {
          "output_type": "display_data",
          "data": {
            "image/png": "[encoded data removed]",
            "text/plain": [
              "<Figure size 1250x850 with 1 Axes>"
            ]
          },
          "metadata": {
            "tags": []
          }
        }
      ]
    }
  ]
}