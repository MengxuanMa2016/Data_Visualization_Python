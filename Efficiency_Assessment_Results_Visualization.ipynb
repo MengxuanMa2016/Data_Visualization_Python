{
  "nbformat": 4,
  "nbformat_minor": 0,
  "metadata": {
    "colab": {
      "name": "Efficiency_Assessment_Results_Visualization.ipynb",
      "version": "0.3.2",
      "provenance": [],
      "include_colab_link": true
    },
    "kernelspec": {
      "name": "python3",
      "display_name": "Python 3"
    }
  },
  "cells": [
    {
      "cell_type": "markdown",
      "metadata": {
        "id": "view-in-github",
        "colab_type": "text"
      },
      "source": [
        "<a href=\"https://colab.research.google.com/github/MengxuanMa2016/Data_Visualization_Python/blob/master/Efficiency_Assessment_Results_Visualization.ipynb\" target=\"_parent\"><img src=\"https://colab.research.google.com/assets/colab-badge.svg\" alt=\"Open In Colab\"/></a>"
      ]
    },
    {
      "metadata": {
        "id": "XqZjw6_Xyyva",
        "colab_type": "text"
      },
      "cell_type": "markdown",
      "source": [
        "## **Efficiency Assessment Result Visualization**\n",
        "\n",
        "The purpose of this notebook is to visaulize the processed assessment results of a stroke player. \n",
        "\n",
        "Main steps: \n",
        "a. Load the generetated assessment file in csv. "
      ]
    },
    {
      "metadata": {
        "id": "WEWg5fc00hR4",
        "colab_type": "text"
      },
      "cell_type": "markdown",
      "source": [
        "## Load the necessary libraries"
      ]
    },
    {
      "metadata": {
        "id": "8q-fcENFzDnF",
        "colab_type": "code",
        "colab": {}
      },
      "cell_type": "code",
      "source": [
        "from numpy import genfromtxt\n",
        "import numpy as np, pandas as pd\n",
        "from IPython.display import display, HTML\n",
        "from matplotlib import pylab\n",
        "import matplotlib.pyplot as plt\n",
        "import matplotlib as mpl\n",
        "mpl.rcParams.update(mpl.rcParamsDefault)\n",
        "import seaborn as sns\n",
        "import csv\n",
        "\n",
        "import scipy.stats as stats\n",
        "import statsmodels as sm\n",
        "\n",
        "import warnings\n",
        "warnings.filterwarnings('ignore')"
      ],
      "execution_count": 0,
      "outputs": []
    },
    {
      "metadata": {
        "id": "AsuZYQJa0oRA",
        "colab_type": "text"
      },
      "cell_type": "markdown",
      "source": [
        "## Link the notebook to the google drive to import the file"
      ]
    },
    {
      "metadata": {
        "id": "MvomD1Bf0yNg",
        "colab_type": "code",
        "outputId": "56d7a8be-e65d-42fc-a853-a8102acd5f9f",
        "colab": {
          "base_uri": "https://localhost:8080/",
          "height": 34
        }
      },
      "cell_type": "code",
      "source": [
        "from google.colab import drive\n",
        "drive.mount('/content/gdrive')"
      ],
      "execution_count": 2,
      "outputs": [
        {
          "output_type": "stream",
          "text": [
            "Drive already mounted at /content/gdrive; to attempt to forcibly remount, call drive.mount(\"/content/gdrive\", force_remount=True).\n"
          ],
          "name": "stdout"
        }
      ]
    },
    {
      "metadata": {
        "id": "8S-WIfPx1Fc6",
        "colab_type": "code",
        "outputId": "a8d331f0-6c51-41e5-fa82-b8cb1ee2c735",
        "colab": {
          "base_uri": "https://localhost:8080/",
          "height": 663
        }
      },
      "cell_type": "code",
      "source": [
        "# list data files are available in the data directory.\n",
        "# For example, running this (by clicking run or pressing Shift+Enter) will list the files in the input directory\n",
        "\n",
        "path = \"/content/gdrive/My Drive/Assessment_Data_Visualization/\"\n",
        "\n",
        "from subprocess import check_output\n",
        "print(check_output([\"ls\", path]).decode(\"utf8\"))\n",
        "\n",
        "# Any results you write to the current directory are saved as output."
      ],
      "execution_count": 3,
      "outputs": [
        {
          "output_type": "stream",
          "text": [
            "Efficiency_Assessment_Results_Visualization.ipynb\n",
            "HS1-ALL-efficiency_metrics012019.csv\n",
            "HS1-ALL-extent_metrics012019.csv\n",
            "HS1-ALL-speedsmoothness_metrics012019.csv\n",
            "HS1-ALL-trial_list012019.csv\n",
            "HS2-ALL-efficiency_metrics011819.csv\n",
            "HS2-ALL-extent_metrics011819.csv\n",
            "HS2-ALL-speedsmoothness_metrics011819.csv\n",
            "HS2-ALL-trial_list011819.csv\n",
            "HS4-ALL-efficiency_metrics011719.csv\n",
            "HS4-ALL-extent_metrics011719.csv\n",
            "HS4-ALL-speedsmoothness_metrics011719.csv\n",
            "HS4-ALL-trial_list011719.csv\n",
            "HS5-ALL-efficiency_metrics011619.csv\n",
            "HS5-ALL-extent_metrics011619.csv\n",
            "HS5-ALL-speedsmoothness_metrics011619.csv\n",
            "HS5-ALL-trial_list011619.csv\n",
            "HS7-ALL-efficiency_metrics011819.csv\n",
            "HS7-ALL-extent_metrics011819.csv\n",
            "HS7-ALL-speedsmoothness_metrics011819.csv\n",
            "HS7-ALL-trial_list011819.csv\n",
            "HS8-ALL-efficiency_metrics011819.csv\n",
            "HS8-ALL-extent_metrics011819.csv\n",
            "HS8-ALL-speedsmoothness_metrics011819.csv\n",
            "HS8-ALL-trial_list011819.csv\n",
            "KL30-ALL-efficiency_metrics012019.csv\n",
            "KL30-ALL-extent_metrics012019.csv\n",
            "KL30-ALL-speedsmoothness_metrics012019.csv\n",
            "KL30-ALL-trial_list012019.csv\n",
            "LSVT1-ALL-efficiency_metrics012019.csv\n",
            "LSVT1-ALL-extent_metrics012019.csv\n",
            "LSVT1-ALL-speedsmoothness_metrics012019.csv\n",
            "LSVT1-ALL-trial_list012019.csv\n",
            "LSVT2-ALL-efficiency_metrics012019.csv\n",
            "LSVT2-ALL-extent_metrics012019.csv\n",
            "LSVT2-ALL-speedsmoothness_metrics012019.csv\n",
            "LSVT2-ALL-trial_list012019.csv\n",
            "\n"
          ],
          "name": "stdout"
        }
      ]
    },
    {
      "metadata": {
        "id": "G59zoAs91lx9",
        "colab_type": "code",
        "colab": {}
      },
      "cell_type": "code",
      "source": [
        "stroke_data_file = 'HS2-ALL-efficiency_metrics011819.csv'\n",
        "stroke_trial_file = 'HS2-ALL-trial_list011819.csv'\n",
        "healthy_data_file = 'KL30-ALL-efficiency_metrics012019.csv'"
      ],
      "execution_count": 0,
      "outputs": []
    },
    {
      "metadata": {
        "id": "ljCEe8fa4qSq",
        "colab_type": "text"
      },
      "cell_type": "markdown",
      "source": [
        "## Some functions"
      ]
    },
    {
      "metadata": {
        "id": "NvhYYLuWN2I7",
        "colab_type": "code",
        "colab": {}
      },
      "cell_type": "code",
      "source": [
        "def read_trial_info(trial):\n",
        "    label = []\n",
        "    with open(trial, newline='') as csvfile:\n",
        "        reader = csv.reader(csvfile, delimiter=',')\n",
        "        for row in reader:\n",
        "            label.append(row[0])\n",
        "    partial_label = [x.split(\"_\") for x in label]\n",
        "      \n",
        "    return partial_label"
      ],
      "execution_count": 0,
      "outputs": []
    },
    {
      "metadata": {
        "id": "6mp9Dq6g40yw",
        "colab_type": "code",
        "colab": {}
      },
      "cell_type": "code",
      "source": [
        "def read_joint_file(trial):\n",
        "    \"\"\"\n",
        "    read_joint_file method: read the joint file(.csv) to an array\n",
        "    :param\n",
        "        trial: directory of the file to be read\n",
        "    :return:\n",
        "        an array of data read from the file.\n",
        "    \"\"\"\n",
        "    print(\"Reading the file...\")\n",
        "\n",
        "    # read the actual data from .csv file\n",
        "    file_data = genfromtxt(trial, delimiter=',')\n",
        "    # print(type(file_data))\n",
        "\n",
        "    data_raw = file_data[:]\n",
        "\n",
        "    print(\"Finish Reading!\")\n",
        "\n",
        "    return data_raw"
      ],
      "execution_count": 0,
      "outputs": []
    },
    {
      "metadata": {
        "id": "rPShUsUpiBv6",
        "colab_type": "code",
        "colab": {}
      },
      "cell_type": "code",
      "source": [
        "def indexing_by_datatime(dataframe):\n",
        "  \"\"\"\n",
        "  Sort the rows of the input dataframe by the data and time. \n",
        "  Add an index column for sorted sequence.\n",
        "  input: A dataframe with _Date and _Time columns included.\n",
        "  return: The dataframe with rows sorted.\n",
        "  \"\"\"\n",
        "  \n",
        "  dataframe.sort_values(['_Date','_Time'],ascending=[True, True])\n",
        "  dataframe['index'] = range(1, len(dataframe) + 1)\n",
        "  \n",
        "  return dataframe"
      ],
      "execution_count": 0,
      "outputs": []
    },
    {
      "metadata": {
        "id": "E-I47G0O5KzN",
        "colab_type": "text"
      },
      "cell_type": "markdown",
      "source": [
        "## Import the base line: Healthy subjects assessment results"
      ]
    },
    {
      "metadata": {
        "id": "n4N0HOSY5KVN",
        "colab_type": "code",
        "outputId": "05174128-48f2-4660-8445-f0d5d726e57f",
        "colab": {
          "base_uri": "https://localhost:8080/",
          "height": 51
        }
      },
      "cell_type": "code",
      "source": [
        "healthy_data = read_joint_file(path + healthy_data_file)\n",
        "# print (type(healthy_data))"
      ],
      "execution_count": 8,
      "outputs": [
        {
          "output_type": "stream",
          "text": [
            "Reading the file...\n",
            "Finish Reading!\n"
          ],
          "name": "stdout"
        }
      ]
    },
    {
      "metadata": {
        "id": "Avh0yRIi-w-q",
        "colab_type": "code",
        "outputId": "29abee0a-2ddd-45e2-894b-ce6983436056",
        "colab": {
          "base_uri": "https://localhost:8080/",
          "height": 221
        }
      },
      "cell_type": "code",
      "source": [
        "headers = ['Path_Ratio_2d_Left',\t'Path_Ratio_2d_Right',\t'Sway_Dist_2d_Left',\t'Sway_Dist_2d_Right',\t'Path_Ratio_3d_Left',\t'Path_Ratio_3d_Right',\t'Sway_Dist_3d_Left', 'Sway_Dist_3d_Right']\n",
        "\n",
        "health_trial_data_dict = dict(zip(headers, healthy_data.T))\n",
        "\n",
        "health_df = pd.DataFrame(health_trial_data_dict)\n",
        "\n",
        "print(\"Display the first five rows of the healthy subject table\")\n",
        "display(health_df[:5])"
      ],
      "execution_count": 9,
      "outputs": [
        {
          "output_type": "stream",
          "text": [
            "Display the first five rows of the healthy subject table\n"
          ],
          "name": "stdout"
        },
        {
          "output_type": "display_data",
          "data": {
            "text/html": [
              "<div>\n",
              "<style scoped>\n",
              "    .dataframe tbody tr th:only-of-type {\n",
              "        vertical-align: middle;\n",
              "    }\n",
              "\n",
              "    .dataframe tbody tr th {\n",
              "        vertical-align: top;\n",
              "    }\n",
              "\n",
              "    .dataframe thead th {\n",
              "        text-align: right;\n",
              "    }\n",
              "</style>\n",
              "<table border=\"1\" class=\"dataframe\">\n",
              "  <thead>\n",
              "    <tr style=\"text-align: right;\">\n",
              "      <th></th>\n",
              "      <th>Path_Ratio_2d_Left</th>\n",
              "      <th>Path_Ratio_2d_Right</th>\n",
              "      <th>Path_Ratio_3d_Left</th>\n",
              "      <th>Path_Ratio_3d_Right</th>\n",
              "      <th>Sway_Dist_2d_Left</th>\n",
              "      <th>Sway_Dist_2d_Right</th>\n",
              "      <th>Sway_Dist_3d_Left</th>\n",
              "      <th>Sway_Dist_3d_Right</th>\n",
              "    </tr>\n",
              "  </thead>\n",
              "  <tbody>\n",
              "    <tr>\n",
              "      <th>0</th>\n",
              "      <td>0.431566</td>\n",
              "      <td>0.584955</td>\n",
              "      <td>0.475128</td>\n",
              "      <td>0.388764</td>\n",
              "      <td>233.295917</td>\n",
              "      <td>178.075036</td>\n",
              "      <td>265.968729</td>\n",
              "      <td>181.584352</td>\n",
              "    </tr>\n",
              "    <tr>\n",
              "      <th>1</th>\n",
              "      <td>0.991658</td>\n",
              "      <td>0.966981</td>\n",
              "      <td>0.860318</td>\n",
              "      <td>0.940132</td>\n",
              "      <td>16.590526</td>\n",
              "      <td>9.229096</td>\n",
              "      <td>52.567149</td>\n",
              "      <td>31.115953</td>\n",
              "    </tr>\n",
              "    <tr>\n",
              "      <th>2</th>\n",
              "      <td>0.947530</td>\n",
              "      <td>0.995806</td>\n",
              "      <td>0.794743</td>\n",
              "      <td>0.848309</td>\n",
              "      <td>18.316861</td>\n",
              "      <td>9.879494</td>\n",
              "      <td>64.860453</td>\n",
              "      <td>52.388726</td>\n",
              "    </tr>\n",
              "    <tr>\n",
              "      <th>3</th>\n",
              "      <td>0.993544</td>\n",
              "      <td>0.996618</td>\n",
              "      <td>0.802868</td>\n",
              "      <td>0.806571</td>\n",
              "      <td>11.312686</td>\n",
              "      <td>5.927629</td>\n",
              "      <td>63.382021</td>\n",
              "      <td>55.880210</td>\n",
              "    </tr>\n",
              "    <tr>\n",
              "      <th>4</th>\n",
              "      <td>0.867409</td>\n",
              "      <td>0.943322</td>\n",
              "      <td>0.693972</td>\n",
              "      <td>0.827436</td>\n",
              "      <td>26.639132</td>\n",
              "      <td>9.069321</td>\n",
              "      <td>68.069082</td>\n",
              "      <td>51.604957</td>\n",
              "    </tr>\n",
              "  </tbody>\n",
              "</table>\n",
              "</div>"
            ],
            "text/plain": [
              "   Path_Ratio_2d_Left  Path_Ratio_2d_Right  Path_Ratio_3d_Left  \\\n",
              "0            0.431566             0.584955            0.475128   \n",
              "1            0.991658             0.966981            0.860318   \n",
              "2            0.947530             0.995806            0.794743   \n",
              "3            0.993544             0.996618            0.802868   \n",
              "4            0.867409             0.943322            0.693972   \n",
              "\n",
              "   Path_Ratio_3d_Right  Sway_Dist_2d_Left  Sway_Dist_2d_Right  \\\n",
              "0             0.388764         233.295917          178.075036   \n",
              "1             0.940132          16.590526            9.229096   \n",
              "2             0.848309          18.316861            9.879494   \n",
              "3             0.806571          11.312686            5.927629   \n",
              "4             0.827436          26.639132            9.069321   \n",
              "\n",
              "   Sway_Dist_3d_Left  Sway_Dist_3d_Right  \n",
              "0         265.968729          181.584352  \n",
              "1          52.567149           31.115953  \n",
              "2          64.860453           52.388726  \n",
              "3          63.382021           55.880210  \n",
              "4          68.069082           51.604957  "
            ]
          },
          "metadata": {
            "tags": []
          }
        }
      ]
    },
    {
      "metadata": {
        "id": "MaiQ-6FT7bXg",
        "colab_type": "text"
      },
      "cell_type": "markdown",
      "source": [
        "## Import the stroke data"
      ]
    },
    {
      "metadata": {
        "id": "790pV6jI7e7h",
        "colab_type": "code",
        "outputId": "83c28a7f-c9ea-49da-ed72-63587885d20c",
        "colab": {
          "base_uri": "https://localhost:8080/",
          "height": 289
        }
      },
      "cell_type": "code",
      "source": [
        "stroke_data = read_joint_file(path + stroke_data_file)\n",
        "\n",
        "print(\"stroke data:\\n\" + str(stroke_data[:3,:]))\n",
        "print(stroke_data.shape)\n",
        "\n",
        "\n",
        "trail_info = read_trial_info(path + stroke_trial_file)\n",
        "trail_info = np.asarray(trail_info)\n",
        "print(\"trail_info: \\n\" + str(trail_info[:5,:]))"
      ],
      "execution_count": 10,
      "outputs": [
        {
          "output_type": "stream",
          "text": [
            "Reading the file...\n",
            "Finish Reading!\n",
            "stroke data:\n",
            "[[  0.298619   0.479203  91.830021  67.751673   0.212321   0.53821\n",
            "  166.005211  63.539319]\n",
            " [  0.378951   0.705728 162.340129  18.089093   0.382903   0.521923\n",
            "  187.79659   50.581384]\n",
            " [  0.228322   0.247417 143.092305 145.522467   0.478913   0.254047\n",
            "  187.365299 196.856654]]\n",
            "(141, 8)\n",
            "trail_info: \n",
            "[['10-24-2013' '02-12-PM' 'Janet' 'Ronlyreaching']\n",
            " ['10-29-2013' '04-28-PM' 'Janet' 'Ronlyreaching']\n",
            " ['10-29-2013' '05-48-PM' 'Janet' 'sittingoutofBOS']\n",
            " ['10-31-2013' '06-30-PM' 'Janet' 'Ronlyreaching']\n",
            " ['11-02-2013' '04-55-PM' 'Janet' 'tallkneeling']]\n"
          ],
          "name": "stdout"
        }
      ]
    },
    {
      "metadata": {
        "id": "_lWgwm67CvpB",
        "colab_type": "text"
      },
      "cell_type": "markdown",
      "source": [
        "## Build up a pandas table of the stroke assessment data"
      ]
    },
    {
      "metadata": {
        "id": "240naO6aC5GR",
        "colab_type": "code",
        "outputId": "ec7194cb-96fd-4633-c8dc-91561dd86a97",
        "colab": {
          "base_uri": "https://localhost:8080/",
          "height": 204
        }
      },
      "cell_type": "code",
      "source": [
        "headers = ['_Date','_Time','_Player','_Type', 'Path_Ratio_2d_Left',\t'Path_Ratio_2d_Right',\t'Sway_Dist_2d_Left',\t'Sway_Dist_2d_Right',\t'Path_Ratio_3d_Left',\t'Path_Ratio_3d_Right',\t'Sway_Dist_3d_Left', 'Sway_Dist_3d_Right']\n",
        "\n",
        "stroke_trial_data = np.concatenate((trail_info, stroke_data), axis=1)\n",
        "# print(\"trial with data: \\n\" + str(stroke_trial_data[:3,0:3]))\n",
        "\n",
        "stroke_trial_data_dict = dict(zip(headers, stroke_trial_data.T))\n",
        "\n",
        "stroke_df = pd.DataFrame(stroke_trial_data_dict)\n",
        "# # print(stroke_df.head())\n",
        "\n",
        "display(stroke_df[:5])"
      ],
      "execution_count": 37,
      "outputs": [
        {
          "output_type": "display_data",
          "data": {
            "text/html": [
              "<div>\n",
              "<style scoped>\n",
              "    .dataframe tbody tr th:only-of-type {\n",
              "        vertical-align: middle;\n",
              "    }\n",
              "\n",
              "    .dataframe tbody tr th {\n",
              "        vertical-align: top;\n",
              "    }\n",
              "\n",
              "    .dataframe thead th {\n",
              "        text-align: right;\n",
              "    }\n",
              "</style>\n",
              "<table border=\"1\" class=\"dataframe\">\n",
              "  <thead>\n",
              "    <tr style=\"text-align: right;\">\n",
              "      <th></th>\n",
              "      <th>Path_Ratio_2d_Left</th>\n",
              "      <th>Path_Ratio_2d_Right</th>\n",
              "      <th>Path_Ratio_3d_Left</th>\n",
              "      <th>Path_Ratio_3d_Right</th>\n",
              "      <th>Sway_Dist_2d_Left</th>\n",
              "      <th>Sway_Dist_2d_Right</th>\n",
              "      <th>Sway_Dist_3d_Left</th>\n",
              "      <th>Sway_Dist_3d_Right</th>\n",
              "      <th>_Date</th>\n",
              "      <th>_Player</th>\n",
              "      <th>_Time</th>\n",
              "      <th>_Type</th>\n",
              "    </tr>\n",
              "  </thead>\n",
              "  <tbody>\n",
              "    <tr>\n",
              "      <th>0</th>\n",
              "      <td>0.298619</td>\n",
              "      <td>0.479203</td>\n",
              "      <td>0.212321</td>\n",
              "      <td>0.53821</td>\n",
              "      <td>91.830021</td>\n",
              "      <td>67.751673</td>\n",
              "      <td>166.005211</td>\n",
              "      <td>63.539319</td>\n",
              "      <td>10-24-2013</td>\n",
              "      <td>Janet</td>\n",
              "      <td>02-12-PM</td>\n",
              "      <td>Ronlyreaching</td>\n",
              "    </tr>\n",
              "    <tr>\n",
              "      <th>1</th>\n",
              "      <td>0.378951</td>\n",
              "      <td>0.705728</td>\n",
              "      <td>0.382903</td>\n",
              "      <td>0.521923</td>\n",
              "      <td>162.340129</td>\n",
              "      <td>18.089093</td>\n",
              "      <td>187.79659</td>\n",
              "      <td>50.581384</td>\n",
              "      <td>10-29-2013</td>\n",
              "      <td>Janet</td>\n",
              "      <td>04-28-PM</td>\n",
              "      <td>Ronlyreaching</td>\n",
              "    </tr>\n",
              "    <tr>\n",
              "      <th>2</th>\n",
              "      <td>0.228322</td>\n",
              "      <td>0.247417</td>\n",
              "      <td>0.478913</td>\n",
              "      <td>0.254047</td>\n",
              "      <td>143.092305</td>\n",
              "      <td>145.522467</td>\n",
              "      <td>187.365299</td>\n",
              "      <td>196.856654</td>\n",
              "      <td>10-29-2013</td>\n",
              "      <td>Janet</td>\n",
              "      <td>05-48-PM</td>\n",
              "      <td>sittingoutofBOS</td>\n",
              "    </tr>\n",
              "    <tr>\n",
              "      <th>3</th>\n",
              "      <td>0.316712</td>\n",
              "      <td>0.173743</td>\n",
              "      <td>0.369144</td>\n",
              "      <td>0.228161</td>\n",
              "      <td>210.363551</td>\n",
              "      <td>75.975357</td>\n",
              "      <td>185.047465</td>\n",
              "      <td>58.60688</td>\n",
              "      <td>10-31-2013</td>\n",
              "      <td>Janet</td>\n",
              "      <td>06-30-PM</td>\n",
              "      <td>Ronlyreaching</td>\n",
              "    </tr>\n",
              "    <tr>\n",
              "      <th>4</th>\n",
              "      <td>0.259369</td>\n",
              "      <td>0.356831</td>\n",
              "      <td>0.281281</td>\n",
              "      <td>0.354112</td>\n",
              "      <td>149.010301</td>\n",
              "      <td>147.636115</td>\n",
              "      <td>192.45747</td>\n",
              "      <td>209.588466</td>\n",
              "      <td>11-02-2013</td>\n",
              "      <td>Janet</td>\n",
              "      <td>04-55-PM</td>\n",
              "      <td>tallkneeling</td>\n",
              "    </tr>\n",
              "  </tbody>\n",
              "</table>\n",
              "</div>"
            ],
            "text/plain": [
              "  Path_Ratio_2d_Left Path_Ratio_2d_Right Path_Ratio_3d_Left  \\\n",
              "0           0.298619            0.479203           0.212321   \n",
              "1           0.378951            0.705728           0.382903   \n",
              "2           0.228322            0.247417           0.478913   \n",
              "3           0.316712            0.173743           0.369144   \n",
              "4           0.259369            0.356831           0.281281   \n",
              "\n",
              "  Path_Ratio_3d_Right Sway_Dist_2d_Left Sway_Dist_2d_Right Sway_Dist_3d_Left  \\\n",
              "0             0.53821         91.830021          67.751673        166.005211   \n",
              "1            0.521923        162.340129          18.089093         187.79659   \n",
              "2            0.254047        143.092305         145.522467        187.365299   \n",
              "3            0.228161        210.363551          75.975357        185.047465   \n",
              "4            0.354112        149.010301         147.636115         192.45747   \n",
              "\n",
              "  Sway_Dist_3d_Right       _Date _Player     _Time            _Type  \n",
              "0          63.539319  10-24-2013   Janet  02-12-PM    Ronlyreaching  \n",
              "1          50.581384  10-29-2013   Janet  04-28-PM    Ronlyreaching  \n",
              "2         196.856654  10-29-2013   Janet  05-48-PM  sittingoutofBOS  \n",
              "3           58.60688  10-31-2013   Janet  06-30-PM    Ronlyreaching  \n",
              "4         209.588466  11-02-2013   Janet  04-55-PM     tallkneeling  "
            ]
          },
          "metadata": {
            "tags": []
          }
        }
      ]
    },
    {
      "metadata": {
        "id": "gXIE80GaAkKe",
        "colab_type": "text"
      },
      "cell_type": "markdown",
      "source": [
        "## Determine the metric for analysis"
      ]
    },
    {
      "metadata": {
        "id": "_za7_XjLAgGu",
        "colab_type": "code",
        "colab": {}
      },
      "cell_type": "code",
      "source": [
        "# metrics for assessing the movement efficiency \n",
        "# 'Path_Ratio_2d_Left',\t'Path_Ratio_2d_Right',\t'Sway_Dist_2d_Left',\t'Sway_Dist_2d_Right',\t'Path_Ratio_3d_Left',\t'Path_Ratio_3d_Right',\t'Sway_Dist_3d_Left', 'Sway_Dist_3d_Right'\n",
        "\n",
        "metric_left = 'Sway_Dist_3d_Left'\n",
        "metric_right = 'Sway_Dist_3d_Right'"
      ],
      "execution_count": 0,
      "outputs": []
    },
    {
      "metadata": {
        "id": "NZiY_w4iBmtq",
        "colab_type": "text"
      },
      "cell_type": "markdown",
      "source": [
        "## Determine the base line from the assessment results of healthy subjects"
      ]
    },
    {
      "metadata": {
        "id": "WFcObZ75YjZV",
        "colab_type": "code",
        "colab": {}
      },
      "cell_type": "code",
      "source": [
        "def compute_baseline(health_dataframe, metric_left, metric_right):\n",
        "  \"\"\"\n",
        "  input parameters: \n",
        "  health_dataframe: the dataframe with left and right hand metric columns including.\n",
        "  metric_left/right : the column name to compute the baseline. \n",
        "  \n",
        "  return parameters:\n",
        "  left/right_baseline: The average of the selected metric column.\n",
        "  \n",
        "  usage:\n",
        "  left_baseline, right_baseline = compute_baseline(health_df, metric_left, metric_right)\n",
        "  print(\"left baseline = {:f}, right baseline = {:f}.\".format(left_baseline, right_baseline))\n",
        "  \"\"\"\n",
        "  \n",
        "  left_baseline = health_df[metric_left].mean()\n",
        "  right_baseline = health_df[metric_right].mean()\n",
        "  print(\"left baseline = {:f}, right baseline = {:f}.\".format(left_baseline, right_baseline))\n",
        "  \n",
        "  return left_baseline, right_baseline"
      ],
      "execution_count": 0,
      "outputs": []
    },
    {
      "metadata": {
        "id": "e28hZd-hZADI",
        "colab_type": "code",
        "colab": {
          "base_uri": "https://localhost:8080/",
          "height": 34
        },
        "outputId": "d04bb612-2112-4b01-bb4d-5dbfdb19a491"
      },
      "cell_type": "code",
      "source": [
        "left_baseline, right_baseline = compute_baseline(health_df, metric_left, metric_right)\n",
        "# print(\"left baseline = {:f}, right baseline = {:f}.\".format(left_baseline, right_baseline))"
      ],
      "execution_count": 14,
      "outputs": [
        {
          "output_type": "stream",
          "text": [
            "left baseline = 110.356954, right baseline = 102.898361.\n"
          ],
          "name": "stdout"
        }
      ]
    },
    {
      "metadata": {
        "id": "IAQVd7EA6SIP",
        "colab_type": "text"
      },
      "cell_type": "markdown",
      "source": [
        "## Trend by game type"
      ]
    },
    {
      "metadata": {
        "id": "ksNahzn-6K3s",
        "colab_type": "code",
        "outputId": "2ac73f2a-0c8f-4f24-b9a7-605117928318",
        "colab": {
          "base_uri": "https://localhost:8080/",
          "height": 51
        }
      },
      "cell_type": "code",
      "source": [
        "# list all the game types\n",
        "print(stroke_df._Type.unique())"
      ],
      "execution_count": 27,
      "outputs": [
        {
          "output_type": "stream",
          "text": [
            "['Ronlyreaching' 'sittingoutofBOS' 'tallkneeling' 'Lonlystanding'\n",
            " 'squathighlow' 'sittostand' 'R and L Standing']\n"
          ],
          "name": "stdout"
        }
      ]
    },
    {
      "metadata": {
        "id": "L1eAoknIjtGU",
        "colab_type": "code",
        "colab": {}
      },
      "cell_type": "code",
      "source": [
        "selected_type = 'Lonlystanding'\n",
        "stroke_one_game = stroke_df.loc[stroke_df['_Type'] == selected_type]\n",
        "stroke_one_game = stroke_one_game[[metric_left,metric_right,'_Date','_Type','_Time']]"
      ],
      "execution_count": 0,
      "outputs": []
    },
    {
      "metadata": {
        "id": "jxpkCj5kkPhP",
        "colab_type": "code",
        "colab": {}
      },
      "cell_type": "code",
      "source": [
        "sorted_df = indexing_by_datatime(stroke_one_game)\n",
        "# display(sorted_df)"
      ],
      "execution_count": 0,
      "outputs": []
    },
    {
      "metadata": {
        "id": "zH8RopBCBe-n",
        "colab_type": "text"
      },
      "cell_type": "markdown",
      "source": [
        "## Plot the figures"
      ]
    },
    {
      "metadata": {
        "id": "9v7uHAgKdbJa",
        "colab_type": "code",
        "colab": {}
      },
      "cell_type": "code",
      "source": [
        "def overtime_analysis(stroke_dataframe, metric_left, metric_right, baseline_dataframe=[]):\n",
        "  \n",
        "  plot_baseline = False\n",
        "  # compute the baseline if the health dataframe is available.\n",
        "  if len(baseline_dataframe) != 0 :\n",
        "    plot_baseline = True\n",
        "    left_baseline, right_baseline = compute_baseline(baseline_dataframe, metric_left, metric_right)\n",
        "  else:\n",
        "    print(\"Baseline is not available!\")\n",
        "    \n",
        "  stroke_dataframe[metric_left]  = stroke_dataframe[metric_left].convert_objects(convert_numeric=True)\n",
        "  stroke_dataframe[metric_right] = stroke_dataframe[metric_right].convert_objects(convert_numeric=True)\n",
        "    \n",
        "  # sort the rows of the analysis dataframe by data and time\n",
        "  analysis_df = indexing_by_datatime(stroke_dataframe)\n",
        "  \n",
        "  fig = plt.figure()\n",
        "  fig.set_size_inches(15.5, 8.5)\n",
        "  ax = fig.add_subplot(111)\n",
        "  sns.regplot(x='index', y=metric_left , data=analysis_df, order=2)\n",
        "  sns.regplot(x='index', y=metric_right, data=analysis_df, order=2)\n",
        "\n",
        "  if plot_baseline == True:\n",
        "    plt.axhline(y= left_baseline , color = 'purple', linestyle='--')\n",
        "    plt.axhline(y= right_baseline, color = 'blue'  , linestyle='--')\n",
        "\n",
        "  plt.xticks(analysis_df['index'],analysis_df[\"_Date\"],rotation = 90)\n",
        "  \n",
        "  plt.title(\"Hand path sway distance Assessment over time from oct to dec of Client HS2\")\n",
        "  plt.xlabel(\"trials recorded from october to december\")\n",
        "  plt.ylabel(\"path sway distance\")\n",
        "\n",
        "  ax.grid(False)\n",
        "\n",
        "  plt.show()\n",
        "  \n",
        "  \n",
        "  return analysis_df\n",
        "  \n",
        "  "
      ],
      "execution_count": 0,
      "outputs": []
    },
    {
      "metadata": {
        "id": "wGf6gjUkfB4D",
        "colab_type": "code",
        "colab": {
          "base_uri": "https://localhost:8080/",
          "height": 840
        },
        "outputId": "c3b6db2c-3890-4817-b403-4ba541637055"
      },
      "cell_type": "code",
      "source": [
        "display_df = overtime_analysis(stroke_one_game, metric_left, metric_right, baseline_dataframe=health_df)\n",
        "\n",
        "# display_df = overtime_analysis(stroke_df, metric_left, metric_right)\n",
        "\n",
        "# display(display_df[:5])"
      ],
      "execution_count": 35,
      "outputs": [
        {
          "output_type": "stream",
          "text": [
            "left baseline = 110.356954, right baseline = 102.898361.\n"
          ],
          "name": "stdout"
        },
        {
          "output_type": "display_data",
          "data": {
            "image/png": "[encoded data removed]",
            "text/plain": [
              "<Figure size 1550x850 with 1 Axes>"
            ]
          },
          "metadata": {
            "tags": []
          }
        }
      ]
    }
  ]
}